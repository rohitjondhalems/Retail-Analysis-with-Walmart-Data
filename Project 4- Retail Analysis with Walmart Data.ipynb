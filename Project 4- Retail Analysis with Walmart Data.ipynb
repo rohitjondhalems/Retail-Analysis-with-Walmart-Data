{
 "cells": [
  {
   "cell_type": "markdown",
   "id": "3d9079a7",
   "metadata": {},
   "source": [
    "# Project 4- Retail Analysis with Walmart Data"
   ]
  },
  {
   "cell_type": "code",
   "execution_count": 1,
   "id": "dcaa8d38",
   "metadata": {},
   "outputs": [],
   "source": [
    "# importing necessary libraries\n",
    "\n",
    "import numpy as np\n",
    "import pandas as pd\n",
    "import matplotlib.pyplot as plt\n",
    "import seaborn as sns\n",
    "from datetime import datetime\n",
    "import os \n",
    "import sys\n",
    "import warnings"
   ]
  },
  {
   "cell_type": "code",
   "execution_count": 2,
   "id": "d5631058",
   "metadata": {},
   "outputs": [],
   "source": [
    "if not sys.warnoptions:\n",
    "    warnings.simplefilter(\"ignore\")"
   ]
  },
  {
   "cell_type": "code",
   "execution_count": 3,
   "id": "5447c538",
   "metadata": {},
   "outputs": [],
   "source": [
    "# loading the dataset from the location\n",
    "\n",
    "os.chdir(\"D:\\Data Science\\Data Science with Python\\Project\\walmart_store_sales\")\n",
    "\n",
    "WalmartData= pd.read_csv('walmart_store_sales.csv')"
   ]
  },
  {
   "cell_type": "code",
   "execution_count": 4,
   "id": "2eb79c4b",
   "metadata": {},
   "outputs": [
    {
     "data": {
      "text/html": [
       "<div>\n",
       "<style scoped>\n",
       "    .dataframe tbody tr th:only-of-type {\n",
       "        vertical-align: middle;\n",
       "    }\n",
       "\n",
       "    .dataframe tbody tr th {\n",
       "        vertical-align: top;\n",
       "    }\n",
       "\n",
       "    .dataframe thead th {\n",
       "        text-align: right;\n",
       "    }\n",
       "</style>\n",
       "<table border=\"1\" class=\"dataframe\">\n",
       "  <thead>\n",
       "    <tr style=\"text-align: right;\">\n",
       "      <th></th>\n",
       "      <th>Store</th>\n",
       "      <th>Date</th>\n",
       "      <th>Weekly_Sales</th>\n",
       "      <th>Holiday_Flag</th>\n",
       "      <th>Temperature</th>\n",
       "      <th>Fuel_Price</th>\n",
       "      <th>CPI</th>\n",
       "      <th>Unemployment</th>\n",
       "    </tr>\n",
       "  </thead>\n",
       "  <tbody>\n",
       "    <tr>\n",
       "      <th>0</th>\n",
       "      <td>1</td>\n",
       "      <td>05-02-2010</td>\n",
       "      <td>1643690.90</td>\n",
       "      <td>0</td>\n",
       "      <td>42.31</td>\n",
       "      <td>2.572</td>\n",
       "      <td>211.096358</td>\n",
       "      <td>8.106</td>\n",
       "    </tr>\n",
       "    <tr>\n",
       "      <th>1</th>\n",
       "      <td>1</td>\n",
       "      <td>12-02-2010</td>\n",
       "      <td>1641957.44</td>\n",
       "      <td>1</td>\n",
       "      <td>38.51</td>\n",
       "      <td>2.548</td>\n",
       "      <td>211.242170</td>\n",
       "      <td>8.106</td>\n",
       "    </tr>\n",
       "    <tr>\n",
       "      <th>2</th>\n",
       "      <td>1</td>\n",
       "      <td>19-02-2010</td>\n",
       "      <td>1611968.17</td>\n",
       "      <td>0</td>\n",
       "      <td>39.93</td>\n",
       "      <td>2.514</td>\n",
       "      <td>211.289143</td>\n",
       "      <td>8.106</td>\n",
       "    </tr>\n",
       "    <tr>\n",
       "      <th>3</th>\n",
       "      <td>1</td>\n",
       "      <td>26-02-2010</td>\n",
       "      <td>1409727.59</td>\n",
       "      <td>0</td>\n",
       "      <td>46.63</td>\n",
       "      <td>2.561</td>\n",
       "      <td>211.319643</td>\n",
       "      <td>8.106</td>\n",
       "    </tr>\n",
       "    <tr>\n",
       "      <th>4</th>\n",
       "      <td>1</td>\n",
       "      <td>05-03-2010</td>\n",
       "      <td>1554806.68</td>\n",
       "      <td>0</td>\n",
       "      <td>46.50</td>\n",
       "      <td>2.625</td>\n",
       "      <td>211.350143</td>\n",
       "      <td>8.106</td>\n",
       "    </tr>\n",
       "    <tr>\n",
       "      <th>5</th>\n",
       "      <td>1</td>\n",
       "      <td>12-03-2010</td>\n",
       "      <td>1439541.59</td>\n",
       "      <td>0</td>\n",
       "      <td>57.79</td>\n",
       "      <td>2.667</td>\n",
       "      <td>211.380643</td>\n",
       "      <td>8.106</td>\n",
       "    </tr>\n",
       "    <tr>\n",
       "      <th>6</th>\n",
       "      <td>1</td>\n",
       "      <td>19-03-2010</td>\n",
       "      <td>1472515.79</td>\n",
       "      <td>0</td>\n",
       "      <td>54.58</td>\n",
       "      <td>2.720</td>\n",
       "      <td>211.215635</td>\n",
       "      <td>8.106</td>\n",
       "    </tr>\n",
       "    <tr>\n",
       "      <th>7</th>\n",
       "      <td>1</td>\n",
       "      <td>26-03-2010</td>\n",
       "      <td>1404429.92</td>\n",
       "      <td>0</td>\n",
       "      <td>51.45</td>\n",
       "      <td>2.732</td>\n",
       "      <td>211.018042</td>\n",
       "      <td>8.106</td>\n",
       "    </tr>\n",
       "    <tr>\n",
       "      <th>8</th>\n",
       "      <td>1</td>\n",
       "      <td>02-04-2010</td>\n",
       "      <td>1594968.28</td>\n",
       "      <td>0</td>\n",
       "      <td>62.27</td>\n",
       "      <td>2.719</td>\n",
       "      <td>210.820450</td>\n",
       "      <td>7.808</td>\n",
       "    </tr>\n",
       "    <tr>\n",
       "      <th>9</th>\n",
       "      <td>1</td>\n",
       "      <td>09-04-2010</td>\n",
       "      <td>1545418.53</td>\n",
       "      <td>0</td>\n",
       "      <td>65.86</td>\n",
       "      <td>2.770</td>\n",
       "      <td>210.622857</td>\n",
       "      <td>7.808</td>\n",
       "    </tr>\n",
       "  </tbody>\n",
       "</table>\n",
       "</div>"
      ],
      "text/plain": [
       "   Store        Date  Weekly_Sales  Holiday_Flag  Temperature  Fuel_Price  \\\n",
       "0      1  05-02-2010    1643690.90             0        42.31       2.572   \n",
       "1      1  12-02-2010    1641957.44             1        38.51       2.548   \n",
       "2      1  19-02-2010    1611968.17             0        39.93       2.514   \n",
       "3      1  26-02-2010    1409727.59             0        46.63       2.561   \n",
       "4      1  05-03-2010    1554806.68             0        46.50       2.625   \n",
       "5      1  12-03-2010    1439541.59             0        57.79       2.667   \n",
       "6      1  19-03-2010    1472515.79             0        54.58       2.720   \n",
       "7      1  26-03-2010    1404429.92             0        51.45       2.732   \n",
       "8      1  02-04-2010    1594968.28             0        62.27       2.719   \n",
       "9      1  09-04-2010    1545418.53             0        65.86       2.770   \n",
       "\n",
       "          CPI  Unemployment  \n",
       "0  211.096358         8.106  \n",
       "1  211.242170         8.106  \n",
       "2  211.289143         8.106  \n",
       "3  211.319643         8.106  \n",
       "4  211.350143         8.106  \n",
       "5  211.380643         8.106  \n",
       "6  211.215635         8.106  \n",
       "7  211.018042         8.106  \n",
       "8  210.820450         7.808  \n",
       "9  210.622857         7.808  "
      ]
     },
     "execution_count": 4,
     "metadata": {},
     "output_type": "execute_result"
    }
   ],
   "source": [
    "WalmartData.head(10)"
   ]
  },
  {
   "cell_type": "code",
   "execution_count": 5,
   "id": "76ee66ba",
   "metadata": {},
   "outputs": [
    {
     "name": "stdout",
     "output_type": "stream",
     "text": [
      "<class 'pandas.core.frame.DataFrame'>\n",
      "RangeIndex: 6435 entries, 0 to 6434\n",
      "Data columns (total 8 columns):\n",
      " #   Column        Non-Null Count  Dtype  \n",
      "---  ------        --------------  -----  \n",
      " 0   Store         6435 non-null   int64  \n",
      " 1   Date          6435 non-null   object \n",
      " 2   Weekly_Sales  6435 non-null   float64\n",
      " 3   Holiday_Flag  6435 non-null   int64  \n",
      " 4   Temperature   6435 non-null   float64\n",
      " 5   Fuel_Price    6435 non-null   float64\n",
      " 6   CPI           6435 non-null   float64\n",
      " 7   Unemployment  6435 non-null   float64\n",
      "dtypes: float64(5), int64(2), object(1)\n",
      "memory usage: 402.3+ KB\n"
     ]
    }
   ],
   "source": [
    "WalmartData.info()"
   ]
  },
  {
   "cell_type": "code",
   "execution_count": 6,
   "id": "2c599afc",
   "metadata": {},
   "outputs": [
    {
     "data": {
      "text/html": [
       "<div>\n",
       "<style scoped>\n",
       "    .dataframe tbody tr th:only-of-type {\n",
       "        vertical-align: middle;\n",
       "    }\n",
       "\n",
       "    .dataframe tbody tr th {\n",
       "        vertical-align: top;\n",
       "    }\n",
       "\n",
       "    .dataframe thead th {\n",
       "        text-align: right;\n",
       "    }\n",
       "</style>\n",
       "<table border=\"1\" class=\"dataframe\">\n",
       "  <thead>\n",
       "    <tr style=\"text-align: right;\">\n",
       "      <th></th>\n",
       "      <th>Store</th>\n",
       "      <th>Weekly_Sales</th>\n",
       "      <th>Holiday_Flag</th>\n",
       "      <th>Temperature</th>\n",
       "      <th>Fuel_Price</th>\n",
       "      <th>CPI</th>\n",
       "      <th>Unemployment</th>\n",
       "    </tr>\n",
       "  </thead>\n",
       "  <tbody>\n",
       "    <tr>\n",
       "      <th>count</th>\n",
       "      <td>6435.000000</td>\n",
       "      <td>6.435000e+03</td>\n",
       "      <td>6435.000000</td>\n",
       "      <td>6435.000000</td>\n",
       "      <td>6435.000000</td>\n",
       "      <td>6435.000000</td>\n",
       "      <td>6435.000000</td>\n",
       "    </tr>\n",
       "    <tr>\n",
       "      <th>mean</th>\n",
       "      <td>23.000000</td>\n",
       "      <td>1.046965e+06</td>\n",
       "      <td>0.069930</td>\n",
       "      <td>60.663782</td>\n",
       "      <td>3.358607</td>\n",
       "      <td>171.578394</td>\n",
       "      <td>7.999151</td>\n",
       "    </tr>\n",
       "    <tr>\n",
       "      <th>std</th>\n",
       "      <td>12.988182</td>\n",
       "      <td>5.643666e+05</td>\n",
       "      <td>0.255049</td>\n",
       "      <td>18.444933</td>\n",
       "      <td>0.459020</td>\n",
       "      <td>39.356712</td>\n",
       "      <td>1.875885</td>\n",
       "    </tr>\n",
       "    <tr>\n",
       "      <th>min</th>\n",
       "      <td>1.000000</td>\n",
       "      <td>2.099862e+05</td>\n",
       "      <td>0.000000</td>\n",
       "      <td>-2.060000</td>\n",
       "      <td>2.472000</td>\n",
       "      <td>126.064000</td>\n",
       "      <td>3.879000</td>\n",
       "    </tr>\n",
       "    <tr>\n",
       "      <th>25%</th>\n",
       "      <td>12.000000</td>\n",
       "      <td>5.533501e+05</td>\n",
       "      <td>0.000000</td>\n",
       "      <td>47.460000</td>\n",
       "      <td>2.933000</td>\n",
       "      <td>131.735000</td>\n",
       "      <td>6.891000</td>\n",
       "    </tr>\n",
       "    <tr>\n",
       "      <th>50%</th>\n",
       "      <td>23.000000</td>\n",
       "      <td>9.607460e+05</td>\n",
       "      <td>0.000000</td>\n",
       "      <td>62.670000</td>\n",
       "      <td>3.445000</td>\n",
       "      <td>182.616521</td>\n",
       "      <td>7.874000</td>\n",
       "    </tr>\n",
       "    <tr>\n",
       "      <th>75%</th>\n",
       "      <td>34.000000</td>\n",
       "      <td>1.420159e+06</td>\n",
       "      <td>0.000000</td>\n",
       "      <td>74.940000</td>\n",
       "      <td>3.735000</td>\n",
       "      <td>212.743293</td>\n",
       "      <td>8.622000</td>\n",
       "    </tr>\n",
       "    <tr>\n",
       "      <th>max</th>\n",
       "      <td>45.000000</td>\n",
       "      <td>3.818686e+06</td>\n",
       "      <td>1.000000</td>\n",
       "      <td>100.140000</td>\n",
       "      <td>4.468000</td>\n",
       "      <td>227.232807</td>\n",
       "      <td>14.313000</td>\n",
       "    </tr>\n",
       "  </tbody>\n",
       "</table>\n",
       "</div>"
      ],
      "text/plain": [
       "             Store  Weekly_Sales  Holiday_Flag  Temperature   Fuel_Price  \\\n",
       "count  6435.000000  6.435000e+03   6435.000000  6435.000000  6435.000000   \n",
       "mean     23.000000  1.046965e+06      0.069930    60.663782     3.358607   \n",
       "std      12.988182  5.643666e+05      0.255049    18.444933     0.459020   \n",
       "min       1.000000  2.099862e+05      0.000000    -2.060000     2.472000   \n",
       "25%      12.000000  5.533501e+05      0.000000    47.460000     2.933000   \n",
       "50%      23.000000  9.607460e+05      0.000000    62.670000     3.445000   \n",
       "75%      34.000000  1.420159e+06      0.000000    74.940000     3.735000   \n",
       "max      45.000000  3.818686e+06      1.000000   100.140000     4.468000   \n",
       "\n",
       "               CPI  Unemployment  \n",
       "count  6435.000000   6435.000000  \n",
       "mean    171.578394      7.999151  \n",
       "std      39.356712      1.875885  \n",
       "min     126.064000      3.879000  \n",
       "25%     131.735000      6.891000  \n",
       "50%     182.616521      7.874000  \n",
       "75%     212.743293      8.622000  \n",
       "max     227.232807     14.313000  "
      ]
     },
     "execution_count": 6,
     "metadata": {},
     "output_type": "execute_result"
    }
   ],
   "source": [
    "WalmartData.describe()"
   ]
  },
  {
   "cell_type": "code",
   "execution_count": 7,
   "id": "5530ee85",
   "metadata": {},
   "outputs": [],
   "source": [
    "# convering the date to datetime and saving into copy \n",
    "WalmartData1=WalmartData.copy()\n",
    "WalmartData1['Date']= pd.to_datetime(WalmartData1['Date'])"
   ]
  },
  {
   "cell_type": "code",
   "execution_count": 8,
   "id": "9b6fd550",
   "metadata": {},
   "outputs": [
    {
     "data": {
      "text/plain": [
       "0   2010-05-02\n",
       "1   2010-12-02\n",
       "2   2010-02-19\n",
       "3   2010-02-26\n",
       "4   2010-05-03\n",
       "5   2010-12-03\n",
       "6   2010-03-19\n",
       "7   2010-03-26\n",
       "8   2010-02-04\n",
       "9   2010-09-04\n",
       "Name: Date, dtype: datetime64[ns]"
      ]
     },
     "execution_count": 8,
     "metadata": {},
     "output_type": "execute_result"
    }
   ],
   "source": [
    "WalmartData1['Date'].head(10)"
   ]
  },
  {
   "cell_type": "code",
   "execution_count": 9,
   "id": "60074580",
   "metadata": {},
   "outputs": [],
   "source": [
    "# Spliting the date into seperate new columns as Day Month and Year in the copy data\n",
    "WalmartData1[\"Day\"]= pd.DatetimeIndex(WalmartData['Date']).day\n",
    "WalmartData1[\"Month\"]= pd.DatetimeIndex(WalmartData['Date']).month\n",
    "WalmartData1[\"Year\"]= pd.DatetimeIndex(WalmartData['Date']).year"
   ]
  },
  {
   "cell_type": "code",
   "execution_count": 10,
   "id": "1e2dda09",
   "metadata": {},
   "outputs": [
    {
     "data": {
      "text/html": [
       "<div>\n",
       "<style scoped>\n",
       "    .dataframe tbody tr th:only-of-type {\n",
       "        vertical-align: middle;\n",
       "    }\n",
       "\n",
       "    .dataframe tbody tr th {\n",
       "        vertical-align: top;\n",
       "    }\n",
       "\n",
       "    .dataframe thead th {\n",
       "        text-align: right;\n",
       "    }\n",
       "</style>\n",
       "<table border=\"1\" class=\"dataframe\">\n",
       "  <thead>\n",
       "    <tr style=\"text-align: right;\">\n",
       "      <th></th>\n",
       "      <th>Store</th>\n",
       "      <th>Date</th>\n",
       "      <th>Weekly_Sales</th>\n",
       "      <th>Holiday_Flag</th>\n",
       "      <th>Temperature</th>\n",
       "      <th>Fuel_Price</th>\n",
       "      <th>CPI</th>\n",
       "      <th>Unemployment</th>\n",
       "      <th>Day</th>\n",
       "      <th>Month</th>\n",
       "      <th>Year</th>\n",
       "    </tr>\n",
       "  </thead>\n",
       "  <tbody>\n",
       "    <tr>\n",
       "      <th>0</th>\n",
       "      <td>1</td>\n",
       "      <td>2010-05-02</td>\n",
       "      <td>1643690.90</td>\n",
       "      <td>0</td>\n",
       "      <td>42.31</td>\n",
       "      <td>2.572</td>\n",
       "      <td>211.096358</td>\n",
       "      <td>8.106</td>\n",
       "      <td>2</td>\n",
       "      <td>5</td>\n",
       "      <td>2010</td>\n",
       "    </tr>\n",
       "    <tr>\n",
       "      <th>1</th>\n",
       "      <td>1</td>\n",
       "      <td>2010-12-02</td>\n",
       "      <td>1641957.44</td>\n",
       "      <td>1</td>\n",
       "      <td>38.51</td>\n",
       "      <td>2.548</td>\n",
       "      <td>211.242170</td>\n",
       "      <td>8.106</td>\n",
       "      <td>2</td>\n",
       "      <td>12</td>\n",
       "      <td>2010</td>\n",
       "    </tr>\n",
       "    <tr>\n",
       "      <th>2</th>\n",
       "      <td>1</td>\n",
       "      <td>2010-02-19</td>\n",
       "      <td>1611968.17</td>\n",
       "      <td>0</td>\n",
       "      <td>39.93</td>\n",
       "      <td>2.514</td>\n",
       "      <td>211.289143</td>\n",
       "      <td>8.106</td>\n",
       "      <td>19</td>\n",
       "      <td>2</td>\n",
       "      <td>2010</td>\n",
       "    </tr>\n",
       "    <tr>\n",
       "      <th>3</th>\n",
       "      <td>1</td>\n",
       "      <td>2010-02-26</td>\n",
       "      <td>1409727.59</td>\n",
       "      <td>0</td>\n",
       "      <td>46.63</td>\n",
       "      <td>2.561</td>\n",
       "      <td>211.319643</td>\n",
       "      <td>8.106</td>\n",
       "      <td>26</td>\n",
       "      <td>2</td>\n",
       "      <td>2010</td>\n",
       "    </tr>\n",
       "    <tr>\n",
       "      <th>4</th>\n",
       "      <td>1</td>\n",
       "      <td>2010-05-03</td>\n",
       "      <td>1554806.68</td>\n",
       "      <td>0</td>\n",
       "      <td>46.50</td>\n",
       "      <td>2.625</td>\n",
       "      <td>211.350143</td>\n",
       "      <td>8.106</td>\n",
       "      <td>3</td>\n",
       "      <td>5</td>\n",
       "      <td>2010</td>\n",
       "    </tr>\n",
       "  </tbody>\n",
       "</table>\n",
       "</div>"
      ],
      "text/plain": [
       "   Store       Date  Weekly_Sales  Holiday_Flag  Temperature  Fuel_Price  \\\n",
       "0      1 2010-05-02    1643690.90             0        42.31       2.572   \n",
       "1      1 2010-12-02    1641957.44             1        38.51       2.548   \n",
       "2      1 2010-02-19    1611968.17             0        39.93       2.514   \n",
       "3      1 2010-02-26    1409727.59             0        46.63       2.561   \n",
       "4      1 2010-05-03    1554806.68             0        46.50       2.625   \n",
       "\n",
       "          CPI  Unemployment  Day  Month  Year  \n",
       "0  211.096358         8.106    2      5  2010  \n",
       "1  211.242170         8.106    2     12  2010  \n",
       "2  211.289143         8.106   19      2  2010  \n",
       "3  211.319643         8.106   26      2  2010  \n",
       "4  211.350143         8.106    3      5  2010  "
      ]
     },
     "execution_count": 10,
     "metadata": {},
     "output_type": "execute_result"
    }
   ],
   "source": [
    "WalmartData1.head()"
   ]
  },
  {
   "cell_type": "code",
   "execution_count": 11,
   "id": "3f870486",
   "metadata": {},
   "outputs": [
    {
     "data": {
      "text/plain": [
       "Store           0\n",
       "Date            0\n",
       "Weekly_Sales    0\n",
       "Holiday_Flag    0\n",
       "Temperature     0\n",
       "Fuel_Price      0\n",
       "CPI             0\n",
       "Unemployment    0\n",
       "dtype: int64"
      ]
     },
     "execution_count": 11,
     "metadata": {},
     "output_type": "execute_result"
    }
   ],
   "source": [
    "WalmartData.isnull().sum().sort_values(ascending=False) # No null values present in the dataset"
   ]
  },
  {
   "cell_type": "code",
   "execution_count": 12,
   "id": "2c2e995b",
   "metadata": {},
   "outputs": [
    {
     "name": "stdout",
     "output_type": "stream",
     "text": [
      "Store\n",
      "20    3.013978e+08\n",
      "4     2.995440e+08\n",
      "14    2.889999e+08\n",
      "13    2.865177e+08\n",
      "2     2.753824e+08\n",
      "10    2.716177e+08\n",
      "27    2.538559e+08\n",
      "6     2.237561e+08\n",
      "1     2.224028e+08\n",
      "39    2.074455e+08\n",
      "Name: Weekly_Sales, dtype: float64\n"
     ]
    }
   ],
   "source": [
    "# Which store has maximun sales\n",
    "\n",
    "Max_Sales_WalmartData= WalmartData.groupby('Store')['Weekly_Sales'].sum().sort_values(ascending=False)\n",
    "print(Max_Sales_WalmartData.head(10)) "
   ]
  },
  {
   "cell_type": "code",
   "execution_count": 13,
   "id": "9f3336a7",
   "metadata": {},
   "outputs": [
    {
     "data": {
      "image/png": "[encoded data removed]",
      "text/plain": [
       "<Figure size 1080x720 with 1 Axes>"
      ]
     },
     "metadata": {
      "needs_background": "light"
     },
     "output_type": "display_data"
    }
   ],
   "source": [
    "# store 20 has the maximum sale while store 33 has least sale, showing it graphically \n",
    "\n",
    "plt.figure(figsize=(15,10))\n",
    "viz= Max_Sales_WalmartData.plot(kind='bar', color='green') \n",
    "\n",
    "plt.title('Total Sales of Each store of Walmart')\n",
    "plt.xlabel('Stores')\n",
    "plt.ylabel('Sales') \n",
    "\n",
    "plt.ticklabel_format(useOffset=False, style='plain', axis='y') # for disabling the Scientific notation "
   ]
  },
  {
   "cell_type": "code",
   "execution_count": 14,
   "id": "912e9c0c",
   "metadata": {},
   "outputs": [
    {
     "name": "stdout",
     "output_type": "stream",
     "text": [
      "        Weekly_Sales\n",
      "Store               \n",
      "14     317569.949476\n",
      "10     302262.062504\n",
      "20     275900.562742\n",
      "4      266201.442297\n",
      "13     265506.995776\n",
      "23     249788.038068\n",
      "27     239930.135688\n",
      "2      237683.694682\n",
      "39     217466.454833\n",
      "6      212525.855862\n",
      "35     211243.457791\n",
      "19     191722.638730\n",
      "41     187907.162766\n",
      "28     181758.967539\n",
      "18     176641.510839\n",
      "24     167745.677567\n",
      "11     165833.887863\n",
      "22     161251.350631\n",
      "1      155980.767761\n",
      "12     139166.871880\n",
      "32     138017.252087\n",
      "45     130168.526635\n",
      "21     128752.812853\n",
      "31     125855.942933\n",
      "15     120538.652043\n",
      "40     119002.112858\n",
      "25     112976.788600\n",
      "7      112585.469220\n",
      "17     112162.936087\n",
      "26     110431.288141\n",
      "8      106280.829881\n",
      "34     104630.164676\n",
      "29      99120.136596\n",
      "16      85769.680133\n",
      "9       69028.666585\n",
      "36      60725.173579\n",
      "42      50262.925530\n",
      "3       46319.631557\n",
      "38      42768.169450\n",
      "43      40598.413260\n",
      "5       37737.965745\n",
      "44      24762.832015\n",
      "33      24132.927322\n",
      "30      22809.665590\n",
      "37      21837.461190\n"
     ]
    }
   ],
   "source": [
    "# Which store has maximum standard deviation i.e., the sales vary a lot. Also, \n",
    "# find out the coefficient of mean to standard deviation\n",
    "\n",
    "\n",
    "WalmartData_std=pd.DataFrame(WalmartData.groupby('Store')['Weekly_Sales'].std().sort_values(ascending=False))\n",
    "print(WalmartData_std)"
   ]
  },
  {
   "cell_type": "code",
   "execution_count": 15,
   "id": "8d6a1e87",
   "metadata": {},
   "outputs": [
    {
     "name": "stdout",
     "output_type": "stream",
     "text": [
      "        Weekly_Sales\n",
      "Store               \n",
      "14     317569.949476\n"
     ]
    }
   ],
   "source": [
    "print(WalmartData_std.head(1))\n",
    "\n",
    "# showing the store which has the maximum standard deviation(store 14 with weekly sales of 317569.949476)"
   ]
  },
  {
   "cell_type": "code",
   "execution_count": 16,
   "id": "a9dc3899",
   "metadata": {},
   "outputs": [
    {
     "data": {
      "text/plain": [
       "<AxesSubplot:title={'center':'The Sale distribution of store 14'}, xlabel='Weekly_Sales', ylabel='Density'>"
      ]
     },
     "execution_count": 16,
     "metadata": {},
     "output_type": "execute_result"
    },
    {
     "data": {
      "image/png": "[encoded data removed]",
      "text/plain": [
       "<Figure size 864x504 with 1 Axes>"
      ]
     },
     "metadata": {
      "needs_background": "light"
     },
     "output_type": "display_data"
    }
   ],
   "source": [
    "# plotting the graph for the store which has maximum standard deviation (Store 14) \n",
    "plt.figure(figsize=(12,7))\n",
    "plt.title(\"The Sale distribution of store 14\")\n",
    "sns.distplot(WalmartData[WalmartData['Store'] == WalmartData_std.head(1).index[0]]['Weekly_Sales'])"
   ]
  },
  {
   "cell_type": "code",
   "execution_count": 17,
   "id": "91d2b602",
   "metadata": {},
   "outputs": [],
   "source": [
    "# Coefficient of Variation = (Standard Deviation / Mean)\n",
    "\n",
    "coe_mean_std = pd.DataFrame(WalmartData.groupby('Store')['Weekly_Sales'].std() / WalmartData.groupby('Store')['Weekly_Sales'].mean())"
   ]
  },
  {
   "cell_type": "code",
   "execution_count": 18,
   "id": "d95422c4",
   "metadata": {},
   "outputs": [
    {
     "name": "stdout",
     "output_type": "stream",
     "text": [
      "       coefficient of mean to standard deviation\n",
      "Store                                           \n",
      "1                                       0.100292\n",
      "2                                       0.123424\n",
      "3                                       0.115021\n",
      "4                                       0.127083\n",
      "5                                       0.118668\n",
      "6                                       0.135823\n",
      "7                                       0.197305\n",
      "8                                       0.116953\n",
      "9                                       0.126895\n",
      "10                                      0.159133\n",
      "11                                      0.122262\n",
      "12                                      0.137925\n",
      "13                                      0.132514\n",
      "14                                      0.157137\n",
      "15                                      0.193384\n",
      "16                                      0.165181\n",
      "17                                      0.125521\n",
      "18                                      0.162845\n",
      "19                                      0.132680\n",
      "20                                      0.130903\n",
      "21                                      0.170292\n",
      "22                                      0.156783\n",
      "23                                      0.179721\n",
      "24                                      0.123637\n",
      "25                                      0.159860\n",
      "26                                      0.110111\n",
      "27                                      0.135155\n",
      "28                                      0.137330\n",
      "29                                      0.183742\n",
      "30                                      0.052008\n",
      "31                                      0.090161\n",
      "32                                      0.118310\n",
      "33                                      0.092868\n",
      "34                                      0.108225\n",
      "35                                      0.229681\n",
      "36                                      0.162579\n",
      "37                                      0.042084\n",
      "38                                      0.110875\n",
      "39                                      0.149908\n",
      "40                                      0.123430\n",
      "41                                      0.148177\n",
      "42                                      0.090335\n",
      "43                                      0.064104\n",
      "44                                      0.081793\n",
      "45                                      0.165613\n"
     ]
    }
   ],
   "source": [
    "coe_mean_std = coe_mean_std.rename(columns={'Weekly_Sales':'coefficient of mean to standard deviation'})\n",
    "print(coe_mean_std)"
   ]
  },
  {
   "cell_type": "code",
   "execution_count": 19,
   "id": "76212fad",
   "metadata": {},
   "outputs": [],
   "source": [
    "coef_mean_std_max = coe_mean_std.sort_values(by='coefficient of mean to standard deviation', ascending=False)"
   ]
  },
  {
   "cell_type": "code",
   "execution_count": 20,
   "id": "4a237e1b",
   "metadata": {},
   "outputs": [
    {
     "name": "stdout",
     "output_type": "stream",
     "text": [
      "       coefficient of mean to standard deviation\n",
      "Store                                           \n",
      "35                                      0.229681\n",
      "7                                       0.197305\n",
      "15                                      0.193384\n",
      "29                                      0.183742\n",
      "23                                      0.179721\n",
      "21                                      0.170292\n",
      "45                                      0.165613\n",
      "16                                      0.165181\n",
      "18                                      0.162845\n",
      "36                                      0.162579\n",
      "25                                      0.159860\n",
      "10                                      0.159133\n",
      "14                                      0.157137\n",
      "22                                      0.156783\n",
      "39                                      0.149908\n",
      "41                                      0.148177\n",
      "12                                      0.137925\n",
      "28                                      0.137330\n",
      "6                                       0.135823\n",
      "27                                      0.135155\n",
      "19                                      0.132680\n",
      "13                                      0.132514\n",
      "20                                      0.130903\n",
      "4                                       0.127083\n",
      "9                                       0.126895\n",
      "17                                      0.125521\n",
      "24                                      0.123637\n",
      "40                                      0.123430\n",
      "2                                       0.123424\n",
      "11                                      0.122262\n",
      "5                                       0.118668\n",
      "32                                      0.118310\n",
      "8                                       0.116953\n",
      "3                                       0.115021\n",
      "38                                      0.110875\n",
      "26                                      0.110111\n",
      "34                                      0.108225\n",
      "1                                       0.100292\n",
      "33                                      0.092868\n",
      "42                                      0.090335\n",
      "31                                      0.090161\n",
      "44                                      0.081793\n",
      "43                                      0.064104\n",
      "30                                      0.052008\n",
      "37                                      0.042084\n"
     ]
    }
   ],
   "source": [
    "print(coef_mean_std_max)"
   ]
  },
  {
   "cell_type": "code",
   "execution_count": 21,
   "id": "d85d5eb1",
   "metadata": {},
   "outputs": [
    {
     "data": {
      "text/plain": [
       "<AxesSubplot:title={'center':'coefficient of mean to standard deviation for store 35'}, xlabel='Weekly_Sales', ylabel='Density'>"
      ]
     },
     "execution_count": 21,
     "metadata": {},
     "output_type": "execute_result"
    },
    {
     "data": {
      "image/png": "[encoded data removed]",
      "text/plain": [
       "<Figure size 864x504 with 1 Axes>"
      ]
     },
     "metadata": {
      "needs_background": "light"
     },
     "output_type": "display_data"
    }
   ],
   "source": [
    "# plotting the graph for the store which has maximum coefficient of mean to standard deviation for (store 35)\n",
    "plt.figure(figsize=(12,7))\n",
    "plt.title(\"coefficient of mean to standard deviation for store 35\")\n",
    "sns.distplot(WalmartData[WalmartData['Store'] == coef_mean_std_max.head(1).index[0]]['Weekly_Sales'])"
   ]
  },
  {
   "cell_type": "code",
   "execution_count": 22,
   "id": "d7b66616",
   "metadata": {},
   "outputs": [],
   "source": [
    "# Which store/s has good quarterly growth rate in Q3’2012\n",
    "\n",
    "# January, February, and March (Q1) April, May, and June (Q2) July, August, and September \n",
    "# (Q3) October, November, and December (Q4) we have date untill 2012-11-01"
   ]
  },
  {
   "cell_type": "code",
   "execution_count": 23,
   "id": "850a7a02",
   "metadata": {},
   "outputs": [],
   "source": [
    "WalmartData_2012=WalmartData1[WalmartData1['Year']==2012]"
   ]
  },
  {
   "cell_type": "code",
   "execution_count": 24,
   "id": "6afc6733",
   "metadata": {},
   "outputs": [
    {
     "data": {
      "text/html": [
       "<div>\n",
       "<style scoped>\n",
       "    .dataframe tbody tr th:only-of-type {\n",
       "        vertical-align: middle;\n",
       "    }\n",
       "\n",
       "    .dataframe tbody tr th {\n",
       "        vertical-align: top;\n",
       "    }\n",
       "\n",
       "    .dataframe thead th {\n",
       "        text-align: right;\n",
       "    }\n",
       "</style>\n",
       "<table border=\"1\" class=\"dataframe\">\n",
       "  <thead>\n",
       "    <tr style=\"text-align: right;\">\n",
       "      <th></th>\n",
       "      <th>Store</th>\n",
       "      <th>Date</th>\n",
       "      <th>Weekly_Sales</th>\n",
       "      <th>Holiday_Flag</th>\n",
       "      <th>Temperature</th>\n",
       "      <th>Fuel_Price</th>\n",
       "      <th>CPI</th>\n",
       "      <th>Unemployment</th>\n",
       "      <th>Day</th>\n",
       "      <th>Month</th>\n",
       "      <th>Year</th>\n",
       "    </tr>\n",
       "  </thead>\n",
       "  <tbody>\n",
       "    <tr>\n",
       "      <th>100</th>\n",
       "      <td>1</td>\n",
       "      <td>2012-06-01</td>\n",
       "      <td>1550369.92</td>\n",
       "      <td>0</td>\n",
       "      <td>49.01</td>\n",
       "      <td>3.157</td>\n",
       "      <td>219.714258</td>\n",
       "      <td>7.348</td>\n",
       "      <td>1</td>\n",
       "      <td>6</td>\n",
       "      <td>2012</td>\n",
       "    </tr>\n",
       "    <tr>\n",
       "      <th>101</th>\n",
       "      <td>1</td>\n",
       "      <td>2012-01-13</td>\n",
       "      <td>1459601.17</td>\n",
       "      <td>0</td>\n",
       "      <td>48.53</td>\n",
       "      <td>3.261</td>\n",
       "      <td>219.892526</td>\n",
       "      <td>7.348</td>\n",
       "      <td>13</td>\n",
       "      <td>1</td>\n",
       "      <td>2012</td>\n",
       "    </tr>\n",
       "    <tr>\n",
       "      <th>102</th>\n",
       "      <td>1</td>\n",
       "      <td>2012-01-20</td>\n",
       "      <td>1394393.84</td>\n",
       "      <td>0</td>\n",
       "      <td>54.11</td>\n",
       "      <td>3.268</td>\n",
       "      <td>219.985689</td>\n",
       "      <td>7.348</td>\n",
       "      <td>20</td>\n",
       "      <td>1</td>\n",
       "      <td>2012</td>\n",
       "    </tr>\n",
       "    <tr>\n",
       "      <th>103</th>\n",
       "      <td>1</td>\n",
       "      <td>2012-01-27</td>\n",
       "      <td>1319325.59</td>\n",
       "      <td>0</td>\n",
       "      <td>54.26</td>\n",
       "      <td>3.290</td>\n",
       "      <td>220.078852</td>\n",
       "      <td>7.348</td>\n",
       "      <td>27</td>\n",
       "      <td>1</td>\n",
       "      <td>2012</td>\n",
       "    </tr>\n",
       "    <tr>\n",
       "      <th>104</th>\n",
       "      <td>1</td>\n",
       "      <td>2012-03-02</td>\n",
       "      <td>1636339.65</td>\n",
       "      <td>0</td>\n",
       "      <td>56.55</td>\n",
       "      <td>3.360</td>\n",
       "      <td>220.172015</td>\n",
       "      <td>7.348</td>\n",
       "      <td>2</td>\n",
       "      <td>3</td>\n",
       "      <td>2012</td>\n",
       "    </tr>\n",
       "    <tr>\n",
       "      <th>...</th>\n",
       "      <td>...</td>\n",
       "      <td>...</td>\n",
       "      <td>...</td>\n",
       "      <td>...</td>\n",
       "      <td>...</td>\n",
       "      <td>...</td>\n",
       "      <td>...</td>\n",
       "      <td>...</td>\n",
       "      <td>...</td>\n",
       "      <td>...</td>\n",
       "      <td>...</td>\n",
       "    </tr>\n",
       "    <tr>\n",
       "      <th>6430</th>\n",
       "      <td>45</td>\n",
       "      <td>2012-09-28</td>\n",
       "      <td>713173.95</td>\n",
       "      <td>0</td>\n",
       "      <td>64.88</td>\n",
       "      <td>3.997</td>\n",
       "      <td>192.013558</td>\n",
       "      <td>8.684</td>\n",
       "      <td>28</td>\n",
       "      <td>9</td>\n",
       "      <td>2012</td>\n",
       "    </tr>\n",
       "    <tr>\n",
       "      <th>6431</th>\n",
       "      <td>45</td>\n",
       "      <td>2012-05-10</td>\n",
       "      <td>733455.07</td>\n",
       "      <td>0</td>\n",
       "      <td>64.89</td>\n",
       "      <td>3.985</td>\n",
       "      <td>192.170412</td>\n",
       "      <td>8.667</td>\n",
       "      <td>10</td>\n",
       "      <td>5</td>\n",
       "      <td>2012</td>\n",
       "    </tr>\n",
       "    <tr>\n",
       "      <th>6432</th>\n",
       "      <td>45</td>\n",
       "      <td>2012-12-10</td>\n",
       "      <td>734464.36</td>\n",
       "      <td>0</td>\n",
       "      <td>54.47</td>\n",
       "      <td>4.000</td>\n",
       "      <td>192.327265</td>\n",
       "      <td>8.667</td>\n",
       "      <td>10</td>\n",
       "      <td>12</td>\n",
       "      <td>2012</td>\n",
       "    </tr>\n",
       "    <tr>\n",
       "      <th>6433</th>\n",
       "      <td>45</td>\n",
       "      <td>2012-10-19</td>\n",
       "      <td>718125.53</td>\n",
       "      <td>0</td>\n",
       "      <td>56.47</td>\n",
       "      <td>3.969</td>\n",
       "      <td>192.330854</td>\n",
       "      <td>8.667</td>\n",
       "      <td>19</td>\n",
       "      <td>10</td>\n",
       "      <td>2012</td>\n",
       "    </tr>\n",
       "    <tr>\n",
       "      <th>6434</th>\n",
       "      <td>45</td>\n",
       "      <td>2012-10-26</td>\n",
       "      <td>760281.43</td>\n",
       "      <td>0</td>\n",
       "      <td>58.85</td>\n",
       "      <td>3.882</td>\n",
       "      <td>192.308899</td>\n",
       "      <td>8.667</td>\n",
       "      <td>26</td>\n",
       "      <td>10</td>\n",
       "      <td>2012</td>\n",
       "    </tr>\n",
       "  </tbody>\n",
       "</table>\n",
       "<p>1935 rows × 11 columns</p>\n",
       "</div>"
      ],
      "text/plain": [
       "      Store       Date  Weekly_Sales  Holiday_Flag  Temperature  Fuel_Price  \\\n",
       "100       1 2012-06-01    1550369.92             0        49.01       3.157   \n",
       "101       1 2012-01-13    1459601.17             0        48.53       3.261   \n",
       "102       1 2012-01-20    1394393.84             0        54.11       3.268   \n",
       "103       1 2012-01-27    1319325.59             0        54.26       3.290   \n",
       "104       1 2012-03-02    1636339.65             0        56.55       3.360   \n",
       "...     ...        ...           ...           ...          ...         ...   \n",
       "6430     45 2012-09-28     713173.95             0        64.88       3.997   \n",
       "6431     45 2012-05-10     733455.07             0        64.89       3.985   \n",
       "6432     45 2012-12-10     734464.36             0        54.47       4.000   \n",
       "6433     45 2012-10-19     718125.53             0        56.47       3.969   \n",
       "6434     45 2012-10-26     760281.43             0        58.85       3.882   \n",
       "\n",
       "             CPI  Unemployment  Day  Month  Year  \n",
       "100   219.714258         7.348    1      6  2012  \n",
       "101   219.892526         7.348   13      1  2012  \n",
       "102   219.985689         7.348   20      1  2012  \n",
       "103   220.078852         7.348   27      1  2012  \n",
       "104   220.172015         7.348    2      3  2012  \n",
       "...          ...           ...  ...    ...   ...  \n",
       "6430  192.013558         8.684   28      9  2012  \n",
       "6431  192.170412         8.667   10      5  2012  \n",
       "6432  192.327265         8.667   10     12  2012  \n",
       "6433  192.330854         8.667   19     10  2012  \n",
       "6434  192.308899         8.667   26     10  2012  \n",
       "\n",
       "[1935 rows x 11 columns]"
      ]
     },
     "execution_count": 24,
     "metadata": {},
     "output_type": "execute_result"
    }
   ],
   "source": [
    "WalmartData_2012"
   ]
  },
  {
   "cell_type": "code",
   "execution_count": 25,
   "id": "1f42dd4b",
   "metadata": {},
   "outputs": [],
   "source": [
    "# Sales for the Q2 (Second quarter)\n",
    "\n",
    "Q2= WalmartData_2012[(WalmartData_2012['Date'] > '2012-04-01') \n",
    "                     & (WalmartData_2012['Date'] < '2012-06-30')].groupby('Store')['Weekly_Sales'].sum()"
   ]
  },
  {
   "cell_type": "code",
   "execution_count": 26,
   "id": "90652a94",
   "metadata": {},
   "outputs": [
    {
     "name": "stdout",
     "output_type": "stream",
     "text": [
      "Store\n",
      "1     21036965.58\n",
      "2     25085123.61\n",
      "3      5562668.16\n",
      "4     28384185.16\n",
      "5      4427262.21\n",
      "6     20728970.16\n",
      "7      7613593.92\n",
      "8     11934275.61\n",
      "9      7431320.13\n",
      "10    23598433.93\n",
      "11    17879095.77\n",
      "12    13193365.04\n",
      "13    26803225.55\n",
      "14    24427769.06\n",
      "15     7867952.23\n",
      "16     6626133.44\n",
      "17    12918892.02\n",
      "18    13834706.08\n",
      "19    18315278.56\n",
      "20    27550180.62\n",
      "21     9226279.62\n",
      "22    13329065.39\n",
      "23    18283424.90\n",
      "24    17768191.98\n",
      "25     9247467.19\n",
      "26    13218289.66\n",
      "27    22593640.73\n",
      "28    16985999.95\n",
      "29     7034493.19\n",
      "30     5786335.45\n",
      "31    18249155.35\n",
      "32    15415236.21\n",
      "33     3512138.05\n",
      "34    12858027.98\n",
      "35    10753570.97\n",
      "36     4090378.90\n",
      "37     6859777.96\n",
      "38     5732362.70\n",
      "39    20191585.63\n",
      "40    12849747.45\n",
      "41    17560035.88\n",
      "42     7608247.31\n",
      "43     8239792.67\n",
      "44     4322555.33\n",
      "45    10278900.05\n",
      "Name: Weekly_Sales, dtype: float64\n"
     ]
    }
   ],
   "source": [
    "print(Q2)"
   ]
  },
  {
   "cell_type": "code",
   "execution_count": 27,
   "id": "fda414b1",
   "metadata": {},
   "outputs": [],
   "source": [
    "Q3= WalmartData_2012[(WalmartData_2012['Date'] > '2012-07-01') \n",
    "                     & (WalmartData_2012['Date']< '2012-09-30')].groupby('Store')['Weekly_Sales'].sum()"
   ]
  },
  {
   "cell_type": "code",
   "execution_count": 28,
   "id": "d5c5d615",
   "metadata": {},
   "outputs": [
    {
     "name": "stdout",
     "output_type": "stream",
     "text": [
      "Store\n",
      "1     18633209.98\n",
      "2     22396867.61\n",
      "3      4966495.93\n",
      "4     25652119.35\n",
      "5      3880621.88\n",
      "6     18341221.11\n",
      "7      7322393.92\n",
      "8     10873860.34\n",
      "9      6528239.56\n",
      "10    21169356.45\n",
      "11    16094363.07\n",
      "12    11777508.50\n",
      "13    24319994.35\n",
      "14    20140430.40\n",
      "15     6909374.37\n",
      "16     6441311.11\n",
      "17    11533998.38\n",
      "18    12507521.72\n",
      "19    16644341.31\n",
      "20    24665938.11\n",
      "21     8403507.99\n",
      "22    11818544.33\n",
      "23    17103654.36\n",
      "24    16125999.86\n",
      "25     8309440.44\n",
      "26    12417575.35\n",
      "27    20191238.11\n",
      "28    15055659.67\n",
      "29     6127862.07\n",
      "30     5181974.44\n",
      "31    16454328.46\n",
      "32    14142164.84\n",
      "33     3177072.43\n",
      "34    11476258.98\n",
      "35    10252122.68\n",
      "36     3578123.58\n",
      "37     6250524.08\n",
      "38     5129297.64\n",
      "39    18899955.17\n",
      "40    11647661.37\n",
      "41    16373588.44\n",
      "42     6830839.86\n",
      "43     7376726.03\n",
      "44     4020486.01\n",
      "45     8851242.32\n",
      "Name: Weekly_Sales, dtype: float64\n"
     ]
    }
   ],
   "source": [
    "print(Q3)"
   ]
  },
  {
   "cell_type": "code",
   "execution_count": 29,
   "id": "26629f6e",
   "metadata": {},
   "outputs": [
    {
     "name": "stdout",
     "output_type": "stream",
     "text": [
      "Store\n",
      "4     54036304.51\n",
      "20    52216118.73\n",
      "13    51123219.90\n",
      "2     47481991.22\n",
      "10    44767790.38\n",
      "14    44568199.46\n",
      "27    42784878.84\n",
      "1     39670175.56\n",
      "39    39091540.80\n",
      "6     39070191.27\n",
      "23    35387079.26\n",
      "19    34959619.87\n",
      "31    34703483.81\n",
      "11    33973458.84\n",
      "41    33933624.32\n",
      "24    33894191.84\n",
      "28    32041659.62\n",
      "32    29557401.05\n",
      "18    26342227.80\n",
      "26    25635865.01\n",
      "22    25147609.72\n",
      "12    24970873.54\n",
      "40    24497408.82\n",
      "17    24452890.40\n",
      "34    24334286.96\n",
      "8     22808135.95\n",
      "35    21005693.65\n",
      "45    19130142.37\n",
      "21    17629787.61\n",
      "25    17556907.63\n",
      "43    15616518.70\n",
      "7     14935987.84\n",
      "15    14777326.60\n",
      "42    14439087.17\n",
      "9     13959559.69\n",
      "29    13162355.26\n",
      "37    13110302.04\n",
      "16    13067444.55\n",
      "30    10968309.89\n",
      "38    10861660.34\n",
      "3     10529164.09\n",
      "44     8343041.34\n",
      "5      8307884.09\n",
      "36     7668502.48\n",
      "33     6689210.48\n",
      "Name: Weekly_Sales, dtype: float64\n"
     ]
    }
   ],
   "source": [
    "good_Q_rate=(Q3+Q2)\n",
    "\n",
    "print(good_Q_rate.sort_values(ascending=False))  "
   ]
  },
  {
   "cell_type": "code",
   "execution_count": 30,
   "id": "f478a730",
   "metadata": {},
   "outputs": [
    {
     "data": {
      "text/plain": [
       "<AxesSubplot:xlabel='Store'>"
      ]
     },
     "execution_count": 30,
     "metadata": {},
     "output_type": "execute_result"
    },
    {
     "data": {
      "image/png": "[encoded data removed]",
      "text/plain": [
       "<Figure size 864x504 with 1 Axes>"
      ]
     },
     "metadata": {
      "needs_background": "light"
     },
     "output_type": "display_data"
    }
   ],
   "source": [
    "plt.figure(figsize=(12,7))\n",
    "good_Q_rate.plot(kind='bar')"
   ]
  },
  {
   "cell_type": "code",
   "execution_count": 31,
   "id": "b5a8af3c",
   "metadata": {},
   "outputs": [
    {
     "name": "stdout",
     "output_type": "stream",
     "text": [
      "Store Number 4 has Good Quartely Growth in Q3'2012 25652119.35\n"
     ]
    }
   ],
   "source": [
    "WalmartData_Q32012 = WalmartData[(pd.to_datetime(WalmartData['Date']) >= pd.to_datetime('07-01-2012')) & (pd.to_datetime(WalmartData['Date']) <= pd.to_datetime('09-30-2012'))]\n",
    "WalmartData_growth = WalmartData_Q32012.groupby(['Store'])['Weekly_Sales'].sum()\n",
    "print(\"Store Number {} has Good Quartely Growth in Q3'2012 {}\".format(WalmartData_growth.idxmax(),WalmartData_growth.max()))"
   ]
  },
  {
   "cell_type": "markdown",
   "id": "0fbd1ad4",
   "metadata": {},
   "source": [
    "# Holiday Events\n",
    "Super Bowl: 12-Feb-10, 11-Feb-11, 10-Feb-12, 8-Feb-13\n",
    "Labour Day: 10-Sep-10, 9-Sep-11, 7-Sep-12, 6-Sep-13\n",
    "Thanksgiving: 26-Nov-10, 25-Nov-11, 23-Nov-12, 29-Nov-13\n",
    "Christmas: 31-Dec-10, 30-Dec-11, 28-Dec-12, 27-Dec-13"
   ]
  },
  {
   "cell_type": "code",
   "execution_count": 32,
   "id": "400bcd61",
   "metadata": {},
   "outputs": [],
   "source": [
    "Super_Bowl =['12-2-2010', '11-2-2011', '10-2-2012']\n",
    "Labour_Day =  ['10-9-2010', '9-9-2011', '7-9-2012']\n",
    "Thanksgiving =  ['26-11-2010', '25-11-2011', '23-11-2012']\n",
    "Christmas = ['31-12-2010', '30-12-2011', '28-12-2012']"
   ]
  },
  {
   "cell_type": "code",
   "execution_count": 33,
   "id": "883fb108",
   "metadata": {},
   "outputs": [],
   "source": [
    "# Yearly Sales in Holidays\n",
    "\n",
    "Super_Bowl_WalmartData=pd.DataFrame(WalmartData1.loc[WalmartData1.Date.isin(Super_Bowl)].groupby('Year')['Weekly_Sales'].sum())\n",
    "\n",
    "Labour_Day_WalmartData=pd.DataFrame(WalmartData1.loc[WalmartData1.Date.isin(Labour_Day)].groupby('Year')['Weekly_Sales'].sum())\n",
    "\n",
    "Thanksgiving_WalmartData=pd.DataFrame(WalmartData1.loc[WalmartData1.Date.isin(Thanksgiving)].groupby('Year')['Weekly_Sales'].sum())\n",
    "\n",
    "Christmas_WalmartData=pd.DataFrame(WalmartData1.loc[WalmartData1.Date.isin(Christmas)].groupby('Year')['Weekly_Sales'].sum())\n",
    "\n",
    "TotalSales=WalmartData1.groupby('Year')['Weekly_Sales']"
   ]
  },
  {
   "cell_type": "code",
   "execution_count": 34,
   "id": "36f96b09",
   "metadata": {},
   "outputs": [
    {
     "name": "stdout",
     "output_type": "stream",
     "text": [
      "      Weekly_Sales\n",
      "Year              \n",
      "2010   48336677.63\n",
      "2011   47336192.79\n",
      "2012   50009407.92\n",
      "      Weekly_Sales\n",
      "Year              \n",
      "2010   45634397.84\n",
      "2011   46763227.53\n",
      "2012   48330059.31\n",
      "      Weekly_Sales\n",
      "Year              \n",
      "2010   65821003.24\n",
      "2011   66593605.26\n",
      "      Weekly_Sales\n",
      "Year              \n",
      "2010   40432519.00\n",
      "2011   46042461.04\n"
     ]
    }
   ],
   "source": [
    "print(Super_Bowl_WalmartData)\n",
    "print(Labour_Day_WalmartData)\n",
    "print(Thanksgiving_WalmartData)\n",
    "print(Christmas_WalmartData)"
   ]
  },
  {
   "cell_type": "code",
   "execution_count": 35,
   "id": "0717d187",
   "metadata": {},
   "outputs": [
    {
     "data": {
      "text/plain": [
       "Text(0.5, 1.0, 'Christmas Holiday')"
      ]
     },
     "execution_count": 35,
     "metadata": {},
     "output_type": "execute_result"
    },
    {
     "data": {
      "image/png": "[encoded data removed]",
      "text/plain": [
       "<Figure size 432x288 with 1 Axes>"
      ]
     },
     "metadata": {
      "needs_background": "light"
     },
     "output_type": "display_data"
    },
    {
     "data": {
      "image/png": "[encoded data removed]",
      "text/plain": [
       "<Figure size 432x288 with 1 Axes>"
      ]
     },
     "metadata": {
      "needs_background": "light"
     },
     "output_type": "display_data"
    },
    {
     "data": {
      "image/png": "[encoded data removed]",
      "text/plain": [
       "<Figure size 432x288 with 1 Axes>"
      ]
     },
     "metadata": {
      "needs_background": "light"
     },
     "output_type": "display_data"
    },
    {
     "data": {
      "image/png": "[encoded data removed]",
      "text/plain": [
       "<Figure size 432x288 with 1 Axes>"
      ]
     },
     "metadata": {
      "needs_background": "light"
     },
     "output_type": "display_data"
    }
   ],
   "source": [
    "# plotting Yearly Sale in the Holidays\n",
    "Super_Bowl_WalmartData.plot(kind='bar')\n",
    "plt.title(\"Super Bowl Holiday\")\n",
    "\n",
    "Labour_Day_WalmartData.plot(kind='bar', color='red')\n",
    "plt.title(\"Labour Day Holiday\")\n",
    "\n",
    "Thanksgiving_WalmartData.plot(kind='bar', color='green')\n",
    "plt.title(\"Thanksgiving Holiday\")\n",
    "\n",
    "Christmas_WalmartData.plot(kind='bar', color='olive')\n",
    "plt.title(\"Christmas Holiday\")"
   ]
  },
  {
   "cell_type": "code",
   "execution_count": 36,
   "id": "c3144775",
   "metadata": {},
   "outputs": [],
   "source": [
    "# It can be clearly seen that in Thanksgiving Sale increased. However, in the Christmas Sale decreased."
   ]
  },
  {
   "cell_type": "code",
   "execution_count": 37,
   "id": "6a03c330",
   "metadata": {},
   "outputs": [],
   "source": [
    "# for Holiday Sales\n",
    "stores_Holiday_Sales = WalmartData[WalmartData['Holiday_Flag'] == 1]"
   ]
  },
  {
   "cell_type": "code",
   "execution_count": 38,
   "id": "cf792496",
   "metadata": {},
   "outputs": [],
   "source": [
    "# Non-Holiday Sales for all stores together\n",
    "\n",
    "non_Holiday=WalmartData[WalmartData['Holiday_Flag']==0]"
   ]
  },
  {
   "cell_type": "code",
   "execution_count": 39,
   "id": "6210c5f0",
   "metadata": {},
   "outputs": [],
   "source": [
    "non_Holiday_Sales_Stores_mean = non_Holiday.groupby(['Date']).agg({'Weekly_Sales':'mean'}).reset_index()\n",
    "\n",
    "\n",
    "stores_Holiday_Sales_sum = stores_Holiday_Sales.groupby(['Date']).agg({'Weekly_Sales':'sum'}).reset_index()"
   ]
  },
  {
   "cell_type": "code",
   "execution_count": 40,
   "id": "7e5974ff",
   "metadata": {},
   "outputs": [
    {
     "name": "stdout",
     "output_type": "stream",
     "text": [
      "On Date 07-09-2012 Holiday Sales is greater than Non Holiday Sales and the Sales figures are :- 48330059.31\n",
      "On Date 09-09-2011 Holiday Sales is greater than Non Holiday Sales and the Sales figures are :- 46763227.529999994\n",
      "On Date 10-02-2012 Holiday Sales is greater than Non Holiday Sales and the Sales figures are :- 50009407.919999994\n",
      "On Date 10-09-2010 Holiday Sales is greater than Non Holiday Sales and the Sales figures are :- 45634397.84\n",
      "On Date 11-02-2011 Holiday Sales is greater than Non Holiday Sales and the Sales figures are :- 47336192.79000002\n",
      "On Date 12-02-2010 Holiday Sales is greater than Non Holiday Sales and the Sales figures are :- 48336677.63000002\n",
      "On Date 25-11-2011 Holiday Sales is greater than Non Holiday Sales and the Sales figures are :- 66593605.25999998\n",
      "On Date 26-11-2010 Holiday Sales is greater than Non Holiday Sales and the Sales figures are :- 65821003.23999999\n",
      "On Date 30-12-2011 Holiday Sales is greater than Non Holiday Sales and the Sales figures are :- 46042461.04000001\n",
      "On Date 31-12-2010 Holiday Sales is greater than Non Holiday Sales and the Sales figures are :- 40432519.0\n"
     ]
    }
   ],
   "source": [
    "# iterating in the data with itertuples function\n",
    "for i in stores_Holiday_Sales_sum.itertuples():\n",
    "    for i1 in non_Holiday_Sales_Stores_mean.itertuples():\n",
    "        if i.Weekly_Sales>i1.Weekly_Sales:\n",
    "            print(\"On Date {} Holiday Sales is greater than Non Holiday Sales and the Sales figures are :- {}\".format(i.Date,i.Weekly_Sales))\n",
    "            break;\n",
    "        "
   ]
  },
  {
   "cell_type": "code",
   "execution_count": 41,
   "id": "cdeb3080",
   "metadata": {},
   "outputs": [
    {
     "data": {
      "text/plain": [
       "Text(0, 0.5, 'Sales in Units')"
      ]
     },
     "execution_count": 41,
     "metadata": {},
     "output_type": "execute_result"
    },
    {
     "data": {
      "image/png": "[encoded data removed]",
      "text/plain": [
       "<Figure size 432x288 with 1 Axes>"
      ]
     },
     "metadata": {
      "needs_background": "light"
     },
     "output_type": "display_data"
    }
   ],
   "source": [
    "# A monthly view of sales in units and give insights\n",
    "\n",
    "plt.bar(WalmartData1[WalmartData1.Year==2010][\"Month\"],WalmartData1[WalmartData1.Year==2010][\"Weekly_Sales\"], color= 'yellow')\n",
    "plt.title('Monthly view of sales in units for 2010')\n",
    "plt.xlabel('Months')\n",
    "plt.ylabel('Sales in Units')"
   ]
  },
  {
   "cell_type": "code",
   "execution_count": 42,
   "id": "87aa0bd4",
   "metadata": {},
   "outputs": [
    {
     "data": {
      "text/plain": [
       "Text(0, 0.5, 'Sales in Units')"
      ]
     },
     "execution_count": 42,
     "metadata": {},
     "output_type": "execute_result"
    },
    {
     "data": {
      "image/png": "[encoded data removed]",
      "text/plain": [
       "<Figure size 432x288 with 1 Axes>"
      ]
     },
     "metadata": {
      "needs_background": "light"
     },
     "output_type": "display_data"
    }
   ],
   "source": [
    "plt.bar(WalmartData1[WalmartData1.Year==2011]['Month'],WalmartData1[WalmartData1.Year==2011]['Weekly_Sales'],color='purple')\n",
    "plt.title('monthly view of sales in units for 2011')\n",
    "plt.xlabel('Months')\n",
    "plt.ylabel('Sales in Units')"
   ]
  },
  {
   "cell_type": "code",
   "execution_count": 43,
   "id": "5e2b1766",
   "metadata": {},
   "outputs": [
    {
     "data": {
      "text/plain": [
       "Text(0, 0.5, 'Sales in Units')"
      ]
     },
     "execution_count": 43,
     "metadata": {},
     "output_type": "execute_result"
    },
    {
     "data": {
      "image/png": "[encoded data removed]",
      "text/plain": [
       "<Figure size 432x288 with 1 Axes>"
      ]
     },
     "metadata": {
      "needs_background": "light"
     },
     "output_type": "display_data"
    }
   ],
   "source": [
    "plt.bar(WalmartData1[WalmartData1.Year==2012]['Month'], WalmartData1[WalmartData1.Year==2012]['Weekly_Sales'],color='brown')\n",
    "plt.title('monthly view of sales in units for 2012')\n",
    "plt.xlabel('Months')\n",
    "plt.ylabel('Sales in Units')"
   ]
  },
  {
   "cell_type": "code",
   "execution_count": 44,
   "id": "140331ff",
   "metadata": {},
   "outputs": [
    {
     "data": {
      "text/plain": [
       "<Figure size 720x432 with 0 Axes>"
      ]
     },
     "metadata": {},
     "output_type": "display_data"
    },
    {
     "data": {
      "image/png": "[encoded data removed]",
      "text/plain": [
       "<Figure size 432x288 with 1 Axes>"
      ]
     },
     "metadata": {
      "needs_background": "light"
     },
     "output_type": "display_data"
    }
   ],
   "source": [
    "# Yearly sales\n",
    "plt.figure(figsize=(10,6))\n",
    "WalmartData1.groupby(\"Year\")[[\"Weekly_Sales\"]].sum().plot(kind='bar', color='green', legend=False)\n",
    "plt.xlabel(\"years\")\n",
    "plt.ylabel(\"Weekly Sales\")\n",
    "plt.title(\"Yearly view of sales\");"
   ]
  },
  {
   "cell_type": "code",
   "execution_count": 45,
   "id": "534bccbe",
   "metadata": {},
   "outputs": [
    {
     "data": {
      "text/plain": [
       "Text(0.5, 1.0, 'Monthly view of sales for all years')"
      ]
     },
     "execution_count": 45,
     "metadata": {},
     "output_type": "execute_result"
    },
    {
     "data": {
      "image/png": "[encoded data removed]",
      "text/plain": [
       "<Figure size 720x432 with 1 Axes>"
      ]
     },
     "metadata": {
      "needs_background": "light"
     },
     "output_type": "display_data"
    }
   ],
   "source": [
    "# Monthly view of sales for all years\n",
    "plt.figure(figsize=(10,6))\n",
    "plt.bar(WalmartData1[\"Month\"],WalmartData1[\"Weekly_Sales\"], color='purple')\n",
    "plt.xlabel(\"months\")\n",
    "plt.ylabel(\"Weekly Sales\")\n",
    "plt.title(\"Monthly view of sales for all years\")"
   ]
  },
  {
   "cell_type": "code",
   "execution_count": 46,
   "id": "cad91e53",
   "metadata": {},
   "outputs": [
    {
     "data": {
      "text/plain": [
       "<AxesSubplot:>"
      ]
     },
     "execution_count": 46,
     "metadata": {},
     "output_type": "execute_result"
    },
    {
     "data": {
      "image/png": "[encoded data removed]",
      "text/plain": [
       "<Figure size 432x288 with 1 Axes>"
      ]
     },
     "metadata": {
      "needs_background": "light"
     },
     "output_type": "display_data"
    }
   ],
   "source": [
    "# Finding outliers in the Dataset\n",
    "\n",
    "out = WalmartData[['Temperature','Fuel_Price','CPI','Unemployment']]\n",
    "out.plot(kind='box')"
   ]
  },
  {
   "cell_type": "code",
   "execution_count": 47,
   "id": "9f71d4f4",
   "metadata": {},
   "outputs": [
    {
     "data": {
      "image/png": "[encoded data removed]",
      "text/plain": [
       "<Figure size 432x1296 with 4 Axes>"
      ]
     },
     "metadata": {
      "needs_background": "light"
     },
     "output_type": "display_data"
    }
   ],
   "source": [
    "fig, axs = plt.subplots(4,figsize=(6,18))\n",
    "for i,column in enumerate(out):\n",
    "    sns.boxplot(WalmartData[column], ax=axs[i])"
   ]
  },
  {
   "cell_type": "code",
   "execution_count": 48,
   "id": "15dd05b6",
   "metadata": {},
   "outputs": [
    {
     "data": {
      "text/html": [
       "<div>\n",
       "<style scoped>\n",
       "    .dataframe tbody tr th:only-of-type {\n",
       "        vertical-align: middle;\n",
       "    }\n",
       "\n",
       "    .dataframe tbody tr th {\n",
       "        vertical-align: top;\n",
       "    }\n",
       "\n",
       "    .dataframe thead th {\n",
       "        text-align: right;\n",
       "    }\n",
       "</style>\n",
       "<table border=\"1\" class=\"dataframe\">\n",
       "  <thead>\n",
       "    <tr style=\"text-align: right;\">\n",
       "      <th></th>\n",
       "      <th>Store</th>\n",
       "      <th>Date</th>\n",
       "      <th>Weekly_Sales</th>\n",
       "      <th>Holiday_Flag</th>\n",
       "      <th>Temperature</th>\n",
       "      <th>Fuel_Price</th>\n",
       "      <th>CPI</th>\n",
       "      <th>Unemployment</th>\n",
       "    </tr>\n",
       "  </thead>\n",
       "  <tbody>\n",
       "    <tr>\n",
       "      <th>0</th>\n",
       "      <td>1</td>\n",
       "      <td>05-02-2010</td>\n",
       "      <td>1643690.90</td>\n",
       "      <td>0</td>\n",
       "      <td>42.31</td>\n",
       "      <td>2.572</td>\n",
       "      <td>211.096358</td>\n",
       "      <td>8.106</td>\n",
       "    </tr>\n",
       "    <tr>\n",
       "      <th>1</th>\n",
       "      <td>1</td>\n",
       "      <td>12-02-2010</td>\n",
       "      <td>1641957.44</td>\n",
       "      <td>1</td>\n",
       "      <td>38.51</td>\n",
       "      <td>2.548</td>\n",
       "      <td>211.242170</td>\n",
       "      <td>8.106</td>\n",
       "    </tr>\n",
       "    <tr>\n",
       "      <th>2</th>\n",
       "      <td>1</td>\n",
       "      <td>19-02-2010</td>\n",
       "      <td>1611968.17</td>\n",
       "      <td>0</td>\n",
       "      <td>39.93</td>\n",
       "      <td>2.514</td>\n",
       "      <td>211.289143</td>\n",
       "      <td>8.106</td>\n",
       "    </tr>\n",
       "    <tr>\n",
       "      <th>3</th>\n",
       "      <td>1</td>\n",
       "      <td>26-02-2010</td>\n",
       "      <td>1409727.59</td>\n",
       "      <td>0</td>\n",
       "      <td>46.63</td>\n",
       "      <td>2.561</td>\n",
       "      <td>211.319643</td>\n",
       "      <td>8.106</td>\n",
       "    </tr>\n",
       "    <tr>\n",
       "      <th>4</th>\n",
       "      <td>1</td>\n",
       "      <td>05-03-2010</td>\n",
       "      <td>1554806.68</td>\n",
       "      <td>0</td>\n",
       "      <td>46.50</td>\n",
       "      <td>2.625</td>\n",
       "      <td>211.350143</td>\n",
       "      <td>8.106</td>\n",
       "    </tr>\n",
       "    <tr>\n",
       "      <th>...</th>\n",
       "      <td>...</td>\n",
       "      <td>...</td>\n",
       "      <td>...</td>\n",
       "      <td>...</td>\n",
       "      <td>...</td>\n",
       "      <td>...</td>\n",
       "      <td>...</td>\n",
       "      <td>...</td>\n",
       "    </tr>\n",
       "    <tr>\n",
       "      <th>6430</th>\n",
       "      <td>45</td>\n",
       "      <td>28-09-2012</td>\n",
       "      <td>713173.95</td>\n",
       "      <td>0</td>\n",
       "      <td>64.88</td>\n",
       "      <td>3.997</td>\n",
       "      <td>192.013558</td>\n",
       "      <td>8.684</td>\n",
       "    </tr>\n",
       "    <tr>\n",
       "      <th>6431</th>\n",
       "      <td>45</td>\n",
       "      <td>05-10-2012</td>\n",
       "      <td>733455.07</td>\n",
       "      <td>0</td>\n",
       "      <td>64.89</td>\n",
       "      <td>3.985</td>\n",
       "      <td>192.170412</td>\n",
       "      <td>8.667</td>\n",
       "    </tr>\n",
       "    <tr>\n",
       "      <th>6432</th>\n",
       "      <td>45</td>\n",
       "      <td>12-10-2012</td>\n",
       "      <td>734464.36</td>\n",
       "      <td>0</td>\n",
       "      <td>54.47</td>\n",
       "      <td>4.000</td>\n",
       "      <td>192.327265</td>\n",
       "      <td>8.667</td>\n",
       "    </tr>\n",
       "    <tr>\n",
       "      <th>6433</th>\n",
       "      <td>45</td>\n",
       "      <td>19-10-2012</td>\n",
       "      <td>718125.53</td>\n",
       "      <td>0</td>\n",
       "      <td>56.47</td>\n",
       "      <td>3.969</td>\n",
       "      <td>192.330854</td>\n",
       "      <td>8.667</td>\n",
       "    </tr>\n",
       "    <tr>\n",
       "      <th>6434</th>\n",
       "      <td>45</td>\n",
       "      <td>26-10-2012</td>\n",
       "      <td>760281.43</td>\n",
       "      <td>0</td>\n",
       "      <td>58.85</td>\n",
       "      <td>3.882</td>\n",
       "      <td>192.308899</td>\n",
       "      <td>8.667</td>\n",
       "    </tr>\n",
       "  </tbody>\n",
       "</table>\n",
       "<p>5658 rows × 8 columns</p>\n",
       "</div>"
      ],
      "text/plain": [
       "      Store        Date  Weekly_Sales  Holiday_Flag  Temperature  Fuel_Price  \\\n",
       "0         1  05-02-2010    1643690.90             0        42.31       2.572   \n",
       "1         1  12-02-2010    1641957.44             1        38.51       2.548   \n",
       "2         1  19-02-2010    1611968.17             0        39.93       2.514   \n",
       "3         1  26-02-2010    1409727.59             0        46.63       2.561   \n",
       "4         1  05-03-2010    1554806.68             0        46.50       2.625   \n",
       "...     ...         ...           ...           ...          ...         ...   \n",
       "6430     45  28-09-2012     713173.95             0        64.88       3.997   \n",
       "6431     45  05-10-2012     733455.07             0        64.89       3.985   \n",
       "6432     45  12-10-2012     734464.36             0        54.47       4.000   \n",
       "6433     45  19-10-2012     718125.53             0        56.47       3.969   \n",
       "6434     45  26-10-2012     760281.43             0        58.85       3.882   \n",
       "\n",
       "             CPI  Unemployment  \n",
       "0     211.096358         8.106  \n",
       "1     211.242170         8.106  \n",
       "2     211.289143         8.106  \n",
       "3     211.319643         8.106  \n",
       "4     211.350143         8.106  \n",
       "...          ...           ...  \n",
       "6430  192.013558         8.684  \n",
       "6431  192.170412         8.667  \n",
       "6432  192.327265         8.667  \n",
       "6433  192.330854         8.667  \n",
       "6434  192.308899         8.667  \n",
       "\n",
       "[5658 rows x 8 columns]"
      ]
     },
     "execution_count": 48,
     "metadata": {},
     "output_type": "execute_result"
    }
   ],
   "source": [
    "# dropping the outliers     \n",
    "new_WalmartData = WalmartData[(WalmartData['Unemployment']<10) & (WalmartData['Unemployment']>4.5) & (WalmartData['Temperature']>10)]\n",
    "new_WalmartData"
   ]
  },
  {
   "cell_type": "code",
   "execution_count": 49,
   "id": "95cfcb35",
   "metadata": {},
   "outputs": [
    {
     "data": {
      "image/png": "[encoded data removed]",
      "text/plain": [
       "<Figure size 432x1296 with 4 Axes>"
      ]
     },
     "metadata": {
      "needs_background": "light"
     },
     "output_type": "display_data"
    }
   ],
   "source": [
    "# checking outliers \n",
    "fig, axs = plt.subplots(4,figsize=(6,18))\n",
    "X = new_WalmartData[['Temperature','Fuel_Price','CPI','Unemployment']]\n",
    "for i,column in enumerate(X):\n",
    "    sns.boxplot(new_WalmartData[column], ax=axs[i])"
   ]
  },
  {
   "cell_type": "code",
   "execution_count": 50,
   "id": "100d1fe9",
   "metadata": {},
   "outputs": [
    {
     "data": {
      "text/plain": [
       "4     143\n",
       "2     143\n",
       "10    143\n",
       "14    143\n",
       "18    143\n",
       "22    143\n",
       "26    143\n",
       "30    143\n",
       "34    143\n",
       "38    143\n",
       "42    143\n",
       "3     143\n",
       "7     143\n",
       "11    143\n",
       "15    143\n",
       "19    143\n",
       "23    143\n",
       "27    143\n",
       "31    143\n",
       "35    143\n",
       "39    143\n",
       "6     143\n",
       "45    143\n",
       "8     143\n",
       "41    143\n",
       "12    143\n",
       "16    143\n",
       "20    143\n",
       "24    143\n",
       "28    143\n",
       "32    143\n",
       "36    143\n",
       "40    143\n",
       "44    143\n",
       "1     143\n",
       "5     143\n",
       "9     143\n",
       "13    143\n",
       "17    143\n",
       "21    143\n",
       "25    143\n",
       "29    143\n",
       "33    143\n",
       "37    143\n",
       "43    143\n",
       "Name: Store, dtype: int64"
      ]
     },
     "execution_count": 50,
     "metadata": {},
     "output_type": "execute_result"
    }
   ],
   "source": [
    "WalmartData.Store.value_counts() # store 1 has 143 columns "
   ]
  },
  {
   "cell_type": "markdown",
   "id": "b2153392",
   "metadata": {},
   "source": [
    "# \n",
    "Statistical Model\n",
    "\n",
    "For Store 1 – Build  prediction models to forecast demand\n",
    "\n",
    "Linear Regression – Utilize variables like date and restructure dates as 1 for 5 Feb 2010 (starting from the earliest date in order). Hypothesize if CPI, unemployment, and fuel price have any impact on sales.\n",
    "\n",
    "Change dates into days by creating new variable.\n",
    "\n",
    "Select the model which gives best accuracy."
   ]
  },
  {
   "cell_type": "code",
   "execution_count": 51,
   "id": "522c193c",
   "metadata": {},
   "outputs": [
    {
     "data": {
      "text/html": [
       "<div>\n",
       "<style scoped>\n",
       "    .dataframe tbody tr th:only-of-type {\n",
       "        vertical-align: middle;\n",
       "    }\n",
       "\n",
       "    .dataframe tbody tr th {\n",
       "        vertical-align: top;\n",
       "    }\n",
       "\n",
       "    .dataframe thead th {\n",
       "        text-align: right;\n",
       "    }\n",
       "</style>\n",
       "<table border=\"1\" class=\"dataframe\">\n",
       "  <thead>\n",
       "    <tr style=\"text-align: right;\">\n",
       "      <th></th>\n",
       "      <th>Store</th>\n",
       "      <th>Date</th>\n",
       "    </tr>\n",
       "  </thead>\n",
       "  <tbody>\n",
       "    <tr>\n",
       "      <th>0</th>\n",
       "      <td>1</td>\n",
       "      <td>1</td>\n",
       "    </tr>\n",
       "    <tr>\n",
       "      <th>1</th>\n",
       "      <td>1</td>\n",
       "      <td>2</td>\n",
       "    </tr>\n",
       "    <tr>\n",
       "      <th>2</th>\n",
       "      <td>1</td>\n",
       "      <td>3</td>\n",
       "    </tr>\n",
       "    <tr>\n",
       "      <th>3</th>\n",
       "      <td>1</td>\n",
       "      <td>4</td>\n",
       "    </tr>\n",
       "    <tr>\n",
       "      <th>4</th>\n",
       "      <td>1</td>\n",
       "      <td>5</td>\n",
       "    </tr>\n",
       "    <tr>\n",
       "      <th>5</th>\n",
       "      <td>1</td>\n",
       "      <td>6</td>\n",
       "    </tr>\n",
       "    <tr>\n",
       "      <th>6</th>\n",
       "      <td>1</td>\n",
       "      <td>7</td>\n",
       "    </tr>\n",
       "    <tr>\n",
       "      <th>7</th>\n",
       "      <td>1</td>\n",
       "      <td>8</td>\n",
       "    </tr>\n",
       "    <tr>\n",
       "      <th>8</th>\n",
       "      <td>1</td>\n",
       "      <td>9</td>\n",
       "    </tr>\n",
       "    <tr>\n",
       "      <th>9</th>\n",
       "      <td>1</td>\n",
       "      <td>10</td>\n",
       "    </tr>\n",
       "  </tbody>\n",
       "</table>\n",
       "</div>"
      ],
      "text/plain": [
       "   Store  Date\n",
       "0      1     1\n",
       "1      1     2\n",
       "2      1     3\n",
       "3      1     4\n",
       "4      1     5\n",
       "5      1     6\n",
       "6      1     7\n",
       "7      1     8\n",
       "8      1     9\n",
       "9      1    10"
      ]
     },
     "execution_count": 51,
     "metadata": {},
     "output_type": "execute_result"
    }
   ],
   "source": [
    "X= WalmartData[WalmartData['Store'] ==1][['Store','Date']]\n",
    "date_obj = WalmartData[WalmartData['Store'] ==1][['Date']]\n",
    "date_obj.index +=1\n",
    "X.Date = date_obj.index\n",
    "X.head(10)"
   ]
  },
  {
   "cell_type": "code",
   "execution_count": 52,
   "id": "f0818ad7",
   "metadata": {},
   "outputs": [
    {
     "data": {
      "text/plain": [
       "0    1643690.90\n",
       "1    1641957.44\n",
       "2    1611968.17\n",
       "3    1409727.59\n",
       "4    1554806.68\n",
       "Name: Weekly_Sales, dtype: float64"
      ]
     },
     "execution_count": 52,
     "metadata": {},
     "output_type": "execute_result"
    }
   ],
   "source": [
    "y= WalmartData[WalmartData['Store'] ==1]['Weekly_Sales']\n",
    "y.head()"
   ]
  },
  {
   "cell_type": "code",
   "execution_count": 53,
   "id": "8b867bf8",
   "metadata": {},
   "outputs": [],
   "source": [
    "from sklearn.model_selection import train_test_split\n",
    "X_train,X_test,y_train,y_test=train_test_split(X,y,random_state=42)"
   ]
  },
  {
   "cell_type": "code",
   "execution_count": 54,
   "id": "64274b29",
   "metadata": {},
   "outputs": [
    {
     "data": {
      "text/html": [
       "<div>\n",
       "<style scoped>\n",
       "    .dataframe tbody tr th:only-of-type {\n",
       "        vertical-align: middle;\n",
       "    }\n",
       "\n",
       "    .dataframe tbody tr th {\n",
       "        vertical-align: top;\n",
       "    }\n",
       "\n",
       "    .dataframe thead th {\n",
       "        text-align: right;\n",
       "    }\n",
       "</style>\n",
       "<table border=\"1\" class=\"dataframe\">\n",
       "  <thead>\n",
       "    <tr style=\"text-align: right;\">\n",
       "      <th></th>\n",
       "      <th>Store</th>\n",
       "      <th>CPI</th>\n",
       "      <th>Unemployment</th>\n",
       "      <th>Fuel_Price</th>\n",
       "    </tr>\n",
       "  </thead>\n",
       "  <tbody>\n",
       "    <tr>\n",
       "      <th>0</th>\n",
       "      <td>1</td>\n",
       "      <td>211.096358</td>\n",
       "      <td>8.106</td>\n",
       "      <td>2.572</td>\n",
       "    </tr>\n",
       "    <tr>\n",
       "      <th>1</th>\n",
       "      <td>1</td>\n",
       "      <td>211.242170</td>\n",
       "      <td>8.106</td>\n",
       "      <td>2.548</td>\n",
       "    </tr>\n",
       "    <tr>\n",
       "      <th>2</th>\n",
       "      <td>1</td>\n",
       "      <td>211.289143</td>\n",
       "      <td>8.106</td>\n",
       "      <td>2.514</td>\n",
       "    </tr>\n",
       "    <tr>\n",
       "      <th>3</th>\n",
       "      <td>1</td>\n",
       "      <td>211.319643</td>\n",
       "      <td>8.106</td>\n",
       "      <td>2.561</td>\n",
       "    </tr>\n",
       "    <tr>\n",
       "      <th>4</th>\n",
       "      <td>1</td>\n",
       "      <td>211.350143</td>\n",
       "      <td>8.106</td>\n",
       "      <td>2.625</td>\n",
       "    </tr>\n",
       "  </tbody>\n",
       "</table>\n",
       "</div>"
      ],
      "text/plain": [
       "   Store         CPI  Unemployment  Fuel_Price\n",
       "0      1  211.096358         8.106       2.572\n",
       "1      1  211.242170         8.106       2.548\n",
       "2      1  211.289143         8.106       2.514\n",
       "3      1  211.319643         8.106       2.561\n",
       "4      1  211.350143         8.106       2.625"
      ]
     },
     "execution_count": 54,
     "metadata": {},
     "output_type": "execute_result"
    }
   ],
   "source": [
    "#Linear Regression – Utilize variables like date and restructure dates as 1 for 5 Feb #2010 \n",
    "# (starting from the earliest date in order). Hypothesize if CPI, unemployment, and \n",
    "#fuel price have any impact on sales.\n",
    "\n",
    "from sklearn.linear_model import LinearRegression\n",
    "lr = LinearRegression()\n",
    "lr.fit(X_train,y_train)\n",
    "New_Dataset= WalmartData[WalmartData['Store'] ==1][['Store','CPI','Unemployment','Fuel_Price']]\n",
    "New_Dataset.head()"
   ]
  },
  {
   "cell_type": "code",
   "execution_count": 55,
   "id": "d0043d67",
   "metadata": {},
   "outputs": [],
   "source": [
    "cpi = WalmartData[WalmartData['Store'] ==1]['CPI'].astype('int64')\n",
    "unemployment = WalmartData[WalmartData['Store'] ==1]['Unemployment'].astype('int64')"
   ]
  },
  {
   "cell_type": "code",
   "execution_count": 56,
   "id": "d88e96a5",
   "metadata": {},
   "outputs": [
    {
     "name": "stdout",
     "output_type": "stream",
     "text": [
      "0      211\n",
      "1      211\n",
      "2      211\n",
      "3      211\n",
      "4      211\n",
      "      ... \n",
      "138    222\n",
      "139    223\n",
      "140    223\n",
      "141    223\n",
      "142    223\n",
      "Name: CPI, Length: 143, dtype: int64\n",
      "0      8\n",
      "1      8\n",
      "2      8\n",
      "3      8\n",
      "4      8\n",
      "      ..\n",
      "138    6\n",
      "139    6\n",
      "140    6\n",
      "141    6\n",
      "142    6\n",
      "Name: Unemployment, Length: 143, dtype: int64\n"
     ]
    }
   ],
   "source": [
    "print(cpi)\n",
    "print(unemployment)"
   ]
  },
  {
   "cell_type": "code",
   "execution_count": 57,
   "id": "5190d960",
   "metadata": {},
   "outputs": [],
   "source": [
    "X_train_cpi,X_test_cpi,y_train_cpi,y_test_cpi = train_test_split(New_Dataset,cpi,random_state=42)\n",
    "X_train_unemp,X_test_unemp,y_train_unemp,y_test_unemp = train_test_split(New_Dataset,unemployment,random_state=42)\n",
    "\n",
    "from sklearn.linear_model import LogisticRegression\n",
    "\n",
    "log_reg = LogisticRegression(max_iter=1000)\n",
    "log_reg.fit(X_train_cpi,y_train_cpi)\n",
    "y_pred = log_reg.predict(X_test_cpi)\n",
    "log_reg.fit(X_train_unemp,y_train_unemp)\n",
    "y_pred_unemp = log_reg.predict(X_test_unemp)"
   ]
  },
  {
   "cell_type": "code",
   "execution_count": 58,
   "id": "5ade6683",
   "metadata": {},
   "outputs": [
    {
     "name": "stdout",
     "output_type": "stream",
     "text": [
      "0.6111111111111112\n",
      "0.9166666666666666\n"
     ]
    }
   ],
   "source": [
    "from sklearn import metrics\n",
    "\n",
    "print(metrics.accuracy_score(y_test_cpi,y_pred))\n",
    "\n",
    "print(metrics.accuracy_score(y_test_unemp,y_pred_unemp))"
   ]
  },
  {
   "cell_type": "code",
   "execution_count": 59,
   "id": "98563d99",
   "metadata": {},
   "outputs": [
    {
     "name": "stdout",
     "output_type": "stream",
     "text": [
      "CPI Actual : [221 211 215 219 213 210 221 215 215 211 212 215 218 222 219 215 211 215\n",
      " 221 215 210 221 221 221 213 211 210 211 211 221 211 219 211 210 210 218]\n",
      "CPI Predicted : [221 211 215 221 215 211 221 215 215 211 211 215 217 221 221 215 211 215\n",
      " 221 215 211 221 221 221 211 211 211 211 211 221 211 221 211 211 211 217]\n",
      "Unemployment Actual : [7 7 7 7 7 7 6 7 7 7 7 7 7 6 7 7 7 7 7 7 7 7 7 7 7 7 7 8 7 7 7 7 7 7 7 7]\n",
      "Unemployment Predicted: [7 7 7 7 7 7 6 7 7 7 7 7 7 6 7 7 7 7 6 7 7 7 7 7 7 7 7 7 7 6 7 7 7 7 7 7]\n"
     ]
    }
   ],
   "source": [
    "print('CPI Actual :', y_test_cpi.values[0:36])\n",
    "print('CPI Predicted :', y_pred[0:36])\n",
    "print('Unemployment Actual :', y_test_unemp.values[0:36])\n",
    "print('Unemployment Predicted:', y_pred_unemp[0:36])"
   ]
  },
  {
   "cell_type": "code",
   "execution_count": 60,
   "id": "d65e9dee",
   "metadata": {},
   "outputs": [
    {
     "data": {
      "text/html": [
       "<div>\n",
       "<style scoped>\n",
       "    .dataframe tbody tr th:only-of-type {\n",
       "        vertical-align: middle;\n",
       "    }\n",
       "\n",
       "    .dataframe tbody tr th {\n",
       "        vertical-align: top;\n",
       "    }\n",
       "\n",
       "    .dataframe thead th {\n",
       "        text-align: right;\n",
       "    }\n",
       "</style>\n",
       "<table border=\"1\" class=\"dataframe\">\n",
       "  <thead>\n",
       "    <tr style=\"text-align: right;\">\n",
       "      <th></th>\n",
       "      <th>Store</th>\n",
       "      <th>Date</th>\n",
       "      <th>Weekly_Sales</th>\n",
       "      <th>Holiday_Flag</th>\n",
       "      <th>Temperature</th>\n",
       "      <th>Fuel_Price</th>\n",
       "      <th>CPI</th>\n",
       "      <th>Unemployment</th>\n",
       "      <th>Day</th>\n",
       "    </tr>\n",
       "  </thead>\n",
       "  <tbody>\n",
       "    <tr>\n",
       "      <th>0</th>\n",
       "      <td>1</td>\n",
       "      <td>05-02-2010</td>\n",
       "      <td>1643690.90</td>\n",
       "      <td>0</td>\n",
       "      <td>42.31</td>\n",
       "      <td>2.572</td>\n",
       "      <td>211.096358</td>\n",
       "      <td>8.106</td>\n",
       "      <td>Sunday</td>\n",
       "    </tr>\n",
       "    <tr>\n",
       "      <th>1</th>\n",
       "      <td>1</td>\n",
       "      <td>12-02-2010</td>\n",
       "      <td>1641957.44</td>\n",
       "      <td>1</td>\n",
       "      <td>38.51</td>\n",
       "      <td>2.548</td>\n",
       "      <td>211.242170</td>\n",
       "      <td>8.106</td>\n",
       "      <td>Thursday</td>\n",
       "    </tr>\n",
       "    <tr>\n",
       "      <th>2</th>\n",
       "      <td>1</td>\n",
       "      <td>19-02-2010</td>\n",
       "      <td>1611968.17</td>\n",
       "      <td>0</td>\n",
       "      <td>39.93</td>\n",
       "      <td>2.514</td>\n",
       "      <td>211.289143</td>\n",
       "      <td>8.106</td>\n",
       "      <td>Friday</td>\n",
       "    </tr>\n",
       "    <tr>\n",
       "      <th>3</th>\n",
       "      <td>1</td>\n",
       "      <td>26-02-2010</td>\n",
       "      <td>1409727.59</td>\n",
       "      <td>0</td>\n",
       "      <td>46.63</td>\n",
       "      <td>2.561</td>\n",
       "      <td>211.319643</td>\n",
       "      <td>8.106</td>\n",
       "      <td>Friday</td>\n",
       "    </tr>\n",
       "    <tr>\n",
       "      <th>4</th>\n",
       "      <td>1</td>\n",
       "      <td>05-03-2010</td>\n",
       "      <td>1554806.68</td>\n",
       "      <td>0</td>\n",
       "      <td>46.50</td>\n",
       "      <td>2.625</td>\n",
       "      <td>211.350143</td>\n",
       "      <td>8.106</td>\n",
       "      <td>Monday</td>\n",
       "    </tr>\n",
       "    <tr>\n",
       "      <th>5</th>\n",
       "      <td>1</td>\n",
       "      <td>12-03-2010</td>\n",
       "      <td>1439541.59</td>\n",
       "      <td>0</td>\n",
       "      <td>57.79</td>\n",
       "      <td>2.667</td>\n",
       "      <td>211.380643</td>\n",
       "      <td>8.106</td>\n",
       "      <td>Friday</td>\n",
       "    </tr>\n",
       "    <tr>\n",
       "      <th>6</th>\n",
       "      <td>1</td>\n",
       "      <td>19-03-2010</td>\n",
       "      <td>1472515.79</td>\n",
       "      <td>0</td>\n",
       "      <td>54.58</td>\n",
       "      <td>2.720</td>\n",
       "      <td>211.215635</td>\n",
       "      <td>8.106</td>\n",
       "      <td>Friday</td>\n",
       "    </tr>\n",
       "    <tr>\n",
       "      <th>7</th>\n",
       "      <td>1</td>\n",
       "      <td>26-03-2010</td>\n",
       "      <td>1404429.92</td>\n",
       "      <td>0</td>\n",
       "      <td>51.45</td>\n",
       "      <td>2.732</td>\n",
       "      <td>211.018042</td>\n",
       "      <td>8.106</td>\n",
       "      <td>Friday</td>\n",
       "    </tr>\n",
       "    <tr>\n",
       "      <th>8</th>\n",
       "      <td>1</td>\n",
       "      <td>02-04-2010</td>\n",
       "      <td>1594968.28</td>\n",
       "      <td>0</td>\n",
       "      <td>62.27</td>\n",
       "      <td>2.719</td>\n",
       "      <td>210.820450</td>\n",
       "      <td>7.808</td>\n",
       "      <td>Thursday</td>\n",
       "    </tr>\n",
       "    <tr>\n",
       "      <th>9</th>\n",
       "      <td>1</td>\n",
       "      <td>09-04-2010</td>\n",
       "      <td>1545418.53</td>\n",
       "      <td>0</td>\n",
       "      <td>65.86</td>\n",
       "      <td>2.770</td>\n",
       "      <td>210.622857</td>\n",
       "      <td>7.808</td>\n",
       "      <td>Saturday</td>\n",
       "    </tr>\n",
       "    <tr>\n",
       "      <th>10</th>\n",
       "      <td>1</td>\n",
       "      <td>16-04-2010</td>\n",
       "      <td>1466058.28</td>\n",
       "      <td>0</td>\n",
       "      <td>66.32</td>\n",
       "      <td>2.808</td>\n",
       "      <td>210.488700</td>\n",
       "      <td>7.808</td>\n",
       "      <td>Friday</td>\n",
       "    </tr>\n",
       "    <tr>\n",
       "      <th>11</th>\n",
       "      <td>1</td>\n",
       "      <td>23-04-2010</td>\n",
       "      <td>1391256.12</td>\n",
       "      <td>0</td>\n",
       "      <td>64.84</td>\n",
       "      <td>2.795</td>\n",
       "      <td>210.439123</td>\n",
       "      <td>7.808</td>\n",
       "      <td>Friday</td>\n",
       "    </tr>\n",
       "    <tr>\n",
       "      <th>12</th>\n",
       "      <td>1</td>\n",
       "      <td>30-04-2010</td>\n",
       "      <td>1425100.71</td>\n",
       "      <td>0</td>\n",
       "      <td>67.41</td>\n",
       "      <td>2.780</td>\n",
       "      <td>210.389546</td>\n",
       "      <td>7.808</td>\n",
       "      <td>Friday</td>\n",
       "    </tr>\n",
       "    <tr>\n",
       "      <th>13</th>\n",
       "      <td>1</td>\n",
       "      <td>07-05-2010</td>\n",
       "      <td>1603955.12</td>\n",
       "      <td>0</td>\n",
       "      <td>72.55</td>\n",
       "      <td>2.835</td>\n",
       "      <td>210.339968</td>\n",
       "      <td>7.808</td>\n",
       "      <td>Monday</td>\n",
       "    </tr>\n",
       "    <tr>\n",
       "      <th>14</th>\n",
       "      <td>1</td>\n",
       "      <td>14-05-2010</td>\n",
       "      <td>1494251.50</td>\n",
       "      <td>0</td>\n",
       "      <td>74.78</td>\n",
       "      <td>2.854</td>\n",
       "      <td>210.337426</td>\n",
       "      <td>7.808</td>\n",
       "      <td>Friday</td>\n",
       "    </tr>\n",
       "  </tbody>\n",
       "</table>\n",
       "</div>"
      ],
      "text/plain": [
       "    Store        Date  Weekly_Sales  Holiday_Flag  Temperature  Fuel_Price  \\\n",
       "0       1  05-02-2010    1643690.90             0        42.31       2.572   \n",
       "1       1  12-02-2010    1641957.44             1        38.51       2.548   \n",
       "2       1  19-02-2010    1611968.17             0        39.93       2.514   \n",
       "3       1  26-02-2010    1409727.59             0        46.63       2.561   \n",
       "4       1  05-03-2010    1554806.68             0        46.50       2.625   \n",
       "5       1  12-03-2010    1439541.59             0        57.79       2.667   \n",
       "6       1  19-03-2010    1472515.79             0        54.58       2.720   \n",
       "7       1  26-03-2010    1404429.92             0        51.45       2.732   \n",
       "8       1  02-04-2010    1594968.28             0        62.27       2.719   \n",
       "9       1  09-04-2010    1545418.53             0        65.86       2.770   \n",
       "10      1  16-04-2010    1466058.28             0        66.32       2.808   \n",
       "11      1  23-04-2010    1391256.12             0        64.84       2.795   \n",
       "12      1  30-04-2010    1425100.71             0        67.41       2.780   \n",
       "13      1  07-05-2010    1603955.12             0        72.55       2.835   \n",
       "14      1  14-05-2010    1494251.50             0        74.78       2.854   \n",
       "\n",
       "           CPI  Unemployment       Day  \n",
       "0   211.096358         8.106    Sunday  \n",
       "1   211.242170         8.106  Thursday  \n",
       "2   211.289143         8.106    Friday  \n",
       "3   211.319643         8.106    Friday  \n",
       "4   211.350143         8.106    Monday  \n",
       "5   211.380643         8.106    Friday  \n",
       "6   211.215635         8.106    Friday  \n",
       "7   211.018042         8.106    Friday  \n",
       "8   210.820450         7.808  Thursday  \n",
       "9   210.622857         7.808  Saturday  \n",
       "10  210.488700         7.808    Friday  \n",
       "11  210.439123         7.808    Friday  \n",
       "12  210.389546         7.808    Friday  \n",
       "13  210.339968         7.808    Monday  \n",
       "14  210.337426         7.808    Friday  "
      ]
     },
     "execution_count": 60,
     "metadata": {},
     "output_type": "execute_result"
    }
   ],
   "source": [
    "WalmartData['Day'] = pd.to_datetime(WalmartData['Date']).dt.day_name()\n",
    "WalmartData.head(15)"
   ]
  },
  {
   "cell_type": "code",
   "execution_count": 61,
   "id": "857eff7d",
   "metadata": {},
   "outputs": [
    {
     "data": {
      "text/html": [
       "<div>\n",
       "<style scoped>\n",
       "    .dataframe tbody tr th:only-of-type {\n",
       "        vertical-align: middle;\n",
       "    }\n",
       "\n",
       "    .dataframe tbody tr th {\n",
       "        vertical-align: top;\n",
       "    }\n",
       "\n",
       "    .dataframe thead th {\n",
       "        text-align: right;\n",
       "    }\n",
       "</style>\n",
       "<table border=\"1\" class=\"dataframe\">\n",
       "  <thead>\n",
       "    <tr style=\"text-align: right;\">\n",
       "      <th></th>\n",
       "      <th>Store</th>\n",
       "      <th>CPI</th>\n",
       "      <th>Unemployment</th>\n",
       "      <th>Fuel_Price</th>\n",
       "    </tr>\n",
       "  </thead>\n",
       "  <tbody>\n",
       "    <tr>\n",
       "      <th>0</th>\n",
       "      <td>1</td>\n",
       "      <td>211.096358</td>\n",
       "      <td>8.106</td>\n",
       "      <td>2.572</td>\n",
       "    </tr>\n",
       "    <tr>\n",
       "      <th>1</th>\n",
       "      <td>1</td>\n",
       "      <td>211.242170</td>\n",
       "      <td>8.106</td>\n",
       "      <td>2.548</td>\n",
       "    </tr>\n",
       "    <tr>\n",
       "      <th>2</th>\n",
       "      <td>1</td>\n",
       "      <td>211.289143</td>\n",
       "      <td>8.106</td>\n",
       "      <td>2.514</td>\n",
       "    </tr>\n",
       "    <tr>\n",
       "      <th>3</th>\n",
       "      <td>1</td>\n",
       "      <td>211.319643</td>\n",
       "      <td>8.106</td>\n",
       "      <td>2.561</td>\n",
       "    </tr>\n",
       "    <tr>\n",
       "      <th>4</th>\n",
       "      <td>1</td>\n",
       "      <td>211.350143</td>\n",
       "      <td>8.106</td>\n",
       "      <td>2.625</td>\n",
       "    </tr>\n",
       "  </tbody>\n",
       "</table>\n",
       "</div>"
      ],
      "text/plain": [
       "   Store         CPI  Unemployment  Fuel_Price\n",
       "0      1  211.096358         8.106       2.572\n",
       "1      1  211.242170         8.106       2.548\n",
       "2      1  211.289143         8.106       2.514\n",
       "3      1  211.319643         8.106       2.561\n",
       "4      1  211.350143         8.106       2.625"
      ]
     },
     "execution_count": 61,
     "metadata": {},
     "output_type": "execute_result"
    }
   ],
   "source": [
    "# Trying different model (XGBoost,Regressor and Classifier) doing additional task\n",
    "from xgboost import XGBRegressor\n",
    "XGBR= XGBRegressor()\n",
    "XGBR.fit(X_train,y_train)\n",
    "New_Dataset_XGBR= WalmartData[WalmartData['Store'] ==1][['Store','CPI','Unemployment','Fuel_Price']]\n",
    "New_Dataset_XGBR.head()"
   ]
  },
  {
   "cell_type": "code",
   "execution_count": 62,
   "id": "d79679a4",
   "metadata": {},
   "outputs": [
    {
     "name": "stdout",
     "output_type": "stream",
     "text": [
      "[15:42:57] WARNING: C:/Users/Administrator/workspace/xgboost-win64_release_1.4.0/src/learner.cc:1095: Starting in XGBoost 1.3.0, the default evaluation metric used with the objective 'multi:softprob' was changed from 'merror' to 'mlogloss'. Explicitly set eval_metric if you'd like to restore the old behavior.\n",
      "[15:42:57] WARNING: C:/Users/Administrator/workspace/xgboost-win64_release_1.4.0/src/learner.cc:1095: Starting in XGBoost 1.3.0, the default evaluation metric used with the objective 'multi:softprob' was changed from 'merror' to 'mlogloss'. Explicitly set eval_metric if you'd like to restore the old behavior.\n"
     ]
    }
   ],
   "source": [
    "X_train_cpi_XGBC,X_test_cpi_XGBC,y_train_cpi_XGBC,y_test_cpi_XGBC = train_test_split(New_Dataset_XGBR,cpi,random_state=42)\n",
    "X_train_unemp_XGBC,X_test_unemp_XGBC,y_train_unemp_XGBC,y_test_unemp_XGBC = train_test_split(New_Dataset_XGBR,unemployment,random_state=42)\n",
    "\n",
    "from xgboost import XGBClassifier\n",
    "\n",
    "XGBC = XGBClassifier()\n",
    "XGBC.fit(X_train_cpi_XGBC,y_train_cpi_XGBC)\n",
    "y_pred = XGBC.predict(X_test_cpi_XGBC)\n",
    "XGBC.fit(X_train_unemp_XGBC,y_train_unemp_XGBC)\n",
    "y_pred_unemp = XGBC.predict(X_test_unemp_XGBC)"
   ]
  },
  {
   "cell_type": "code",
   "execution_count": 63,
   "id": "71fa0761",
   "metadata": {},
   "outputs": [
    {
     "name": "stdout",
     "output_type": "stream",
     "text": [
      "0.8611111111111112\n",
      "0.9722222222222222\n"
     ]
    }
   ],
   "source": [
    "from sklearn import metrics\n",
    "\n",
    "print(metrics.accuracy_score(y_test_cpi_XGBC,y_pred))\n",
    "\n",
    "print(metrics.accuracy_score(y_test_unemp_XGBC,y_pred_unemp)) # Xgboost giving the more accuracy than the with linear regression,logistic Regression"
   ]
  },
  {
   "cell_type": "code",
   "execution_count": 64,
   "id": "8fff702e",
   "metadata": {},
   "outputs": [
    {
     "name": "stdout",
     "output_type": "stream",
     "text": [
      "CPI Actual : [221 211 215 219 213 210 221 215 215 211 212 215 218 222 219 215 211 215\n",
      " 221 215 210 221 221 221 213 211 210 211 211 221 211 219 211 210 210 218]\n",
      "CPI Predicted : [221 211 215 218 214 210 221 215 222 211 212 215 218 221 219 215 211 215\n",
      " 221 215 210 221 221 221 213 211 210 211 211 221 211 219 211 210 210 217]\n",
      "Unemployment Actual : [7 7 7 7 7 7 6 7 7 7 7 7 7 6 7 7 7 7 7 7 7 7 7 7 7 7 7 8 7 7 7 7 7 7 7 7]\n",
      "Unemployment Predicted: [7 7 7 7 7 7 6 7 7 7 7 7 7 6 7 7 7 7 6 7 7 7 7 7 7 7 7 8 7 7 7 7 7 7 7 7]\n"
     ]
    }
   ],
   "source": [
    "print('CPI Actual :', y_test_cpi_XGBC.values[0:36])\n",
    "print('CPI Predicted :', y_pred[0:36])\n",
    "print('Unemployment Actual :', y_test_unemp_XGBC.values[0:36])\n",
    "print('Unemployment Predicted:', y_pred_unemp[0:36])"
   ]
  },
  {
   "cell_type": "code",
   "execution_count": 65,
   "id": "7889d9f6",
   "metadata": {},
   "outputs": [
    {
     "data": {
      "text/html": [
       "<div>\n",
       "<style scoped>\n",
       "    .dataframe tbody tr th:only-of-type {\n",
       "        vertical-align: middle;\n",
       "    }\n",
       "\n",
       "    .dataframe tbody tr th {\n",
       "        vertical-align: top;\n",
       "    }\n",
       "\n",
       "    .dataframe thead th {\n",
       "        text-align: right;\n",
       "    }\n",
       "</style>\n",
       "<table border=\"1\" class=\"dataframe\">\n",
       "  <thead>\n",
       "    <tr style=\"text-align: right;\">\n",
       "      <th></th>\n",
       "      <th>Store</th>\n",
       "      <th>Date</th>\n",
       "      <th>Weekly_Sales</th>\n",
       "      <th>Holiday_Flag</th>\n",
       "      <th>Temperature</th>\n",
       "      <th>Fuel_Price</th>\n",
       "      <th>CPI</th>\n",
       "      <th>Unemployment</th>\n",
       "      <th>Day</th>\n",
       "    </tr>\n",
       "  </thead>\n",
       "  <tbody>\n",
       "    <tr>\n",
       "      <th>0</th>\n",
       "      <td>1</td>\n",
       "      <td>05-02-2010</td>\n",
       "      <td>1643690.90</td>\n",
       "      <td>0</td>\n",
       "      <td>42.31</td>\n",
       "      <td>2.572</td>\n",
       "      <td>211.096358</td>\n",
       "      <td>8.106</td>\n",
       "      <td>Sunday</td>\n",
       "    </tr>\n",
       "    <tr>\n",
       "      <th>1</th>\n",
       "      <td>1</td>\n",
       "      <td>12-02-2010</td>\n",
       "      <td>1641957.44</td>\n",
       "      <td>1</td>\n",
       "      <td>38.51</td>\n",
       "      <td>2.548</td>\n",
       "      <td>211.242170</td>\n",
       "      <td>8.106</td>\n",
       "      <td>Thursday</td>\n",
       "    </tr>\n",
       "    <tr>\n",
       "      <th>2</th>\n",
       "      <td>1</td>\n",
       "      <td>19-02-2010</td>\n",
       "      <td>1611968.17</td>\n",
       "      <td>0</td>\n",
       "      <td>39.93</td>\n",
       "      <td>2.514</td>\n",
       "      <td>211.289143</td>\n",
       "      <td>8.106</td>\n",
       "      <td>Friday</td>\n",
       "    </tr>\n",
       "    <tr>\n",
       "      <th>3</th>\n",
       "      <td>1</td>\n",
       "      <td>26-02-2010</td>\n",
       "      <td>1409727.59</td>\n",
       "      <td>0</td>\n",
       "      <td>46.63</td>\n",
       "      <td>2.561</td>\n",
       "      <td>211.319643</td>\n",
       "      <td>8.106</td>\n",
       "      <td>Friday</td>\n",
       "    </tr>\n",
       "    <tr>\n",
       "      <th>4</th>\n",
       "      <td>1</td>\n",
       "      <td>05-03-2010</td>\n",
       "      <td>1554806.68</td>\n",
       "      <td>0</td>\n",
       "      <td>46.50</td>\n",
       "      <td>2.625</td>\n",
       "      <td>211.350143</td>\n",
       "      <td>8.106</td>\n",
       "      <td>Monday</td>\n",
       "    </tr>\n",
       "    <tr>\n",
       "      <th>5</th>\n",
       "      <td>1</td>\n",
       "      <td>12-03-2010</td>\n",
       "      <td>1439541.59</td>\n",
       "      <td>0</td>\n",
       "      <td>57.79</td>\n",
       "      <td>2.667</td>\n",
       "      <td>211.380643</td>\n",
       "      <td>8.106</td>\n",
       "      <td>Friday</td>\n",
       "    </tr>\n",
       "    <tr>\n",
       "      <th>6</th>\n",
       "      <td>1</td>\n",
       "      <td>19-03-2010</td>\n",
       "      <td>1472515.79</td>\n",
       "      <td>0</td>\n",
       "      <td>54.58</td>\n",
       "      <td>2.720</td>\n",
       "      <td>211.215635</td>\n",
       "      <td>8.106</td>\n",
       "      <td>Friday</td>\n",
       "    </tr>\n",
       "    <tr>\n",
       "      <th>7</th>\n",
       "      <td>1</td>\n",
       "      <td>26-03-2010</td>\n",
       "      <td>1404429.92</td>\n",
       "      <td>0</td>\n",
       "      <td>51.45</td>\n",
       "      <td>2.732</td>\n",
       "      <td>211.018042</td>\n",
       "      <td>8.106</td>\n",
       "      <td>Friday</td>\n",
       "    </tr>\n",
       "    <tr>\n",
       "      <th>8</th>\n",
       "      <td>1</td>\n",
       "      <td>02-04-2010</td>\n",
       "      <td>1594968.28</td>\n",
       "      <td>0</td>\n",
       "      <td>62.27</td>\n",
       "      <td>2.719</td>\n",
       "      <td>210.820450</td>\n",
       "      <td>7.808</td>\n",
       "      <td>Thursday</td>\n",
       "    </tr>\n",
       "    <tr>\n",
       "      <th>9</th>\n",
       "      <td>1</td>\n",
       "      <td>09-04-2010</td>\n",
       "      <td>1545418.53</td>\n",
       "      <td>0</td>\n",
       "      <td>65.86</td>\n",
       "      <td>2.770</td>\n",
       "      <td>210.622857</td>\n",
       "      <td>7.808</td>\n",
       "      <td>Saturday</td>\n",
       "    </tr>\n",
       "    <tr>\n",
       "      <th>10</th>\n",
       "      <td>1</td>\n",
       "      <td>16-04-2010</td>\n",
       "      <td>1466058.28</td>\n",
       "      <td>0</td>\n",
       "      <td>66.32</td>\n",
       "      <td>2.808</td>\n",
       "      <td>210.488700</td>\n",
       "      <td>7.808</td>\n",
       "      <td>Friday</td>\n",
       "    </tr>\n",
       "    <tr>\n",
       "      <th>11</th>\n",
       "      <td>1</td>\n",
       "      <td>23-04-2010</td>\n",
       "      <td>1391256.12</td>\n",
       "      <td>0</td>\n",
       "      <td>64.84</td>\n",
       "      <td>2.795</td>\n",
       "      <td>210.439123</td>\n",
       "      <td>7.808</td>\n",
       "      <td>Friday</td>\n",
       "    </tr>\n",
       "    <tr>\n",
       "      <th>12</th>\n",
       "      <td>1</td>\n",
       "      <td>30-04-2010</td>\n",
       "      <td>1425100.71</td>\n",
       "      <td>0</td>\n",
       "      <td>67.41</td>\n",
       "      <td>2.780</td>\n",
       "      <td>210.389546</td>\n",
       "      <td>7.808</td>\n",
       "      <td>Friday</td>\n",
       "    </tr>\n",
       "    <tr>\n",
       "      <th>13</th>\n",
       "      <td>1</td>\n",
       "      <td>07-05-2010</td>\n",
       "      <td>1603955.12</td>\n",
       "      <td>0</td>\n",
       "      <td>72.55</td>\n",
       "      <td>2.835</td>\n",
       "      <td>210.339968</td>\n",
       "      <td>7.808</td>\n",
       "      <td>Monday</td>\n",
       "    </tr>\n",
       "    <tr>\n",
       "      <th>14</th>\n",
       "      <td>1</td>\n",
       "      <td>14-05-2010</td>\n",
       "      <td>1494251.50</td>\n",
       "      <td>0</td>\n",
       "      <td>74.78</td>\n",
       "      <td>2.854</td>\n",
       "      <td>210.337426</td>\n",
       "      <td>7.808</td>\n",
       "      <td>Friday</td>\n",
       "    </tr>\n",
       "  </tbody>\n",
       "</table>\n",
       "</div>"
      ],
      "text/plain": [
       "    Store        Date  Weekly_Sales  Holiday_Flag  Temperature  Fuel_Price  \\\n",
       "0       1  05-02-2010    1643690.90             0        42.31       2.572   \n",
       "1       1  12-02-2010    1641957.44             1        38.51       2.548   \n",
       "2       1  19-02-2010    1611968.17             0        39.93       2.514   \n",
       "3       1  26-02-2010    1409727.59             0        46.63       2.561   \n",
       "4       1  05-03-2010    1554806.68             0        46.50       2.625   \n",
       "5       1  12-03-2010    1439541.59             0        57.79       2.667   \n",
       "6       1  19-03-2010    1472515.79             0        54.58       2.720   \n",
       "7       1  26-03-2010    1404429.92             0        51.45       2.732   \n",
       "8       1  02-04-2010    1594968.28             0        62.27       2.719   \n",
       "9       1  09-04-2010    1545418.53             0        65.86       2.770   \n",
       "10      1  16-04-2010    1466058.28             0        66.32       2.808   \n",
       "11      1  23-04-2010    1391256.12             0        64.84       2.795   \n",
       "12      1  30-04-2010    1425100.71             0        67.41       2.780   \n",
       "13      1  07-05-2010    1603955.12             0        72.55       2.835   \n",
       "14      1  14-05-2010    1494251.50             0        74.78       2.854   \n",
       "\n",
       "           CPI  Unemployment       Day  \n",
       "0   211.096358         8.106    Sunday  \n",
       "1   211.242170         8.106  Thursday  \n",
       "2   211.289143         8.106    Friday  \n",
       "3   211.319643         8.106    Friday  \n",
       "4   211.350143         8.106    Monday  \n",
       "5   211.380643         8.106    Friday  \n",
       "6   211.215635         8.106    Friday  \n",
       "7   211.018042         8.106    Friday  \n",
       "8   210.820450         7.808  Thursday  \n",
       "9   210.622857         7.808  Saturday  \n",
       "10  210.488700         7.808    Friday  \n",
       "11  210.439123         7.808    Friday  \n",
       "12  210.389546         7.808    Friday  \n",
       "13  210.339968         7.808    Monday  \n",
       "14  210.337426         7.808    Friday  "
      ]
     },
     "execution_count": 65,
     "metadata": {},
     "output_type": "execute_result"
    }
   ],
   "source": [
    "WalmartData['Day'] = pd.to_datetime(WalmartData['Date']).dt.day_name()\n",
    "WalmartData.head(15)"
   ]
  }
 ],
 "metadata": {
  "kernelspec": {
   "display_name": "Python 3",
   "language": "python",
   "name": "python3"
  },
  "language_info": {
   "codemirror_mode": {
    "name": "ipython",
    "version": 3
   },
   "file_extension": ".py",
   "mimetype": "text/x-python",
   "name": "python",
   "nbconvert_exporter": "python",
   "pygments_lexer": "ipython3",
   "version": "3.8.8"
  }
 },
 "nbformat": 4,
 "nbformat_minor": 5
}
